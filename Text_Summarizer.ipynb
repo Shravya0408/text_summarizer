{
  "nbformat": 4,
  "nbformat_minor": 0,
  "metadata": {
    "kernelspec": {
      "language": "python",
      "display_name": "Python 3",
      "name": "python3"
    },
    "language_info": {
      "pygments_lexer": "ipython3",
      "nbconvert_exporter": "python",
      "version": "3.6.4",
      "file_extension": ".py",
      "codemirror_mode": {
        "name": "ipython",
        "version": 3
      },
      "name": "python",
      "mimetype": "text/x-python"
    },
    "colab": {
      "provenance": [],
      "collapsed_sections": [
        "9dS0J-5ZYffs",
        "PSm8wEITZFXa"
      ]
    },
    "accelerator": "GPU"
  },
  "cells": [
    {
      "cell_type": "markdown",
      "metadata": {
        "id": "9dS0J-5ZYffs"
      },
      "source": [
        "##**Text Summarization with Attention layer**\n"
      ]
    },
    {
      "cell_type": "markdown",
      "metadata": {
        "id": "PSm8wEITZFXa"
      },
      "source": [
        "#Group Members\n",
        "\n",
        "1. Rakshika S (PES2UG20CS264)\n",
        "2. Shravya U (PPES2UG20CS326)"
      ]
    },
    {
      "cell_type": "markdown",
      "metadata": {
        "id": "HPOsXZmbdoy7"
      },
      "source": [
        "# Summarizing Text with Amazon Reviews"
      ]
    },
    {
      "cell_type": "markdown",
      "metadata": {
        "id": "zerWzSQ4dnNL"
      },
      "source": [
        "The objective of this project is to build a model that can create relevant summaries for reviews written about fine foods sold on Amazon. \n",
        "This dataset contains above 500,000 reviews but we will use first 100,000 reveiws and summary to train our model to reduce training time.\n",
        "\n",
        "\n",
        "The sections of this project are:\n",
        "- Importing the libraries\n",
        "- Preprocessing of Data\n",
        "- Analyzing and Preparing the Data\n",
        "- Model Building\n",
        "- Model Training\n",
        "- Inference\n"
      ]
    },
    {
      "cell_type": "markdown",
      "metadata": {
        "id": "JUValOzcHtEK"
      },
      "source": [
        "\n",
        "##Import the Libraries"
      ]
    },
    {
      "cell_type": "code",
      "metadata": {
        "_uuid": "8f2839f25d086af736a60e9eeb907d3b93b6e0e5",
        "_cell_guid": "b1076dfc-b9ad-4769-8c92-a6c4dae69d19",
        "id": "_Jpu8qLEFxcY",
        "execution": {
          "iopub.status.busy": "2021-10-22T13:25:56.563529Z",
          "iopub.execute_input": "2021-10-22T13:25:56.563821Z",
          "iopub.status.idle": "2021-10-22T13:25:58.045684Z",
          "shell.execute_reply.started": "2021-10-22T13:25:56.563777Z",
          "shell.execute_reply": "2021-10-22T13:25:58.044706Z"
        },
        "trusted": true
      },
      "source": [
        "import tensorflow as tf\n",
        "import os\n",
        "from tensorflow.keras.layers import Layer\n",
        "from tensorflow.keras import backend as K\n",
        "\n",
        "import numpy as np\n",
        "import pandas as pd \n",
        "import re\n",
        "from bs4 import BeautifulSoup #pulling data out of HTML and XML files\n",
        "from keras.preprocessing.text import Tokenizer \n",
        "from tensorflow.keras.preprocessing.sequence import pad_sequences # transforms a list (of length num_samples ) of sequences (lists of integers) into a 2D Numpy array of shape\n",
        "from nltk.corpus import stopwords\n",
        "from tensorflow.keras.layers import Input, LSTM, Embedding, Dense, Concatenate, TimeDistributed\n",
        "from tensorflow.keras.models import Model\n",
        "from tensorflow.keras.callbacks import EarlyStopping #Stop training when a monitored metric has stopped improving\n",
        "import warnings\n",
        "pd.set_option(\"display.max_colwidth\", 200)\n",
        "warnings.filterwarnings(\"ignore\")\n",
        "\n",
        "#tf - helps you implement best practices for data automation, model tracking, performance monitoring, and model retraining."
      ],
      "execution_count": 1,
      "outputs": []
    },
    {
      "cell_type": "markdown",
      "metadata": {
        "id": "OijMhU2vgIlZ"
      },
      "source": [
        "# Preprocessing of Data"
      ]
    },
    {
      "cell_type": "code",
      "metadata": {
        "id": "wnK5o4Z1Fxcj",
        "execution": {
          "iopub.status.busy": "2021-10-22T13:25:58.047093Z",
          "iopub.execute_input": "2021-10-22T13:25:58.047429Z",
          "iopub.status.idle": "2021-10-22T13:26:02.00977Z",
          "shell.execute_reply.started": "2021-10-22T13:25:58.047388Z",
          "shell.execute_reply": "2021-10-22T13:26:02.008662Z"
        },
        "trusted": true,
        "colab": {
          "base_uri": "https://localhost:8080/",
          "height": 243
        },
        "outputId": "8f547a75-2a76-4ce2-feb5-ef9f7c0c72c7"
      },
      "source": [
        "data = pd.read_csv(\"/content/Reviews.csv\",nrows=100000)\n",
        "data.head(2)"
      ],
      "execution_count": 2,
      "outputs": [
        {
          "output_type": "execute_result",
          "data": {
            "text/plain": [
              "   Id   ProductId          UserId ProfileName  HelpfulnessNumerator  \\\n",
              "0   1  B001E4KFG0  A3SGXH7AUHU8GW  delmartian                     1   \n",
              "1   2  B00813GRG4  A1D87F6ZCVE5NK      dll pa                     0   \n",
              "\n",
              "   HelpfulnessDenominator  Score        Time                Summary  \\\n",
              "0                       1      5  1303862400  Good Quality Dog Food   \n",
              "1                       0      1  1346976000      Not as Advertised   \n",
              "\n",
              "                                                                                                                                                                                                      Text  \n",
              "0  I have bought several of the Vitality canned dog food products and have found them all to be of good quality. The product looks more like a stew than a processed meat and it smells better. My Labr...  \n",
              "1           Product arrived labeled as Jumbo Salted Peanuts...the peanuts were actually small sized unsalted. Not sure if this was an error or if the vendor intended to represent the product as \"Jumbo\".  "
            ],
            "text/html": [
              "\n",
              "  <div id=\"df-147d9a34-1f22-49e5-b015-c1d2b95703cf\">\n",
              "    <div class=\"colab-df-container\">\n",
              "      <div>\n",
              "<style scoped>\n",
              "    .dataframe tbody tr th:only-of-type {\n",
              "        vertical-align: middle;\n",
              "    }\n",
              "\n",
              "    .dataframe tbody tr th {\n",
              "        vertical-align: top;\n",
              "    }\n",
              "\n",
              "    .dataframe thead th {\n",
              "        text-align: right;\n",
              "    }\n",
              "</style>\n",
              "<table border=\"1\" class=\"dataframe\">\n",
              "  <thead>\n",
              "    <tr style=\"text-align: right;\">\n",
              "      <th></th>\n",
              "      <th>Id</th>\n",
              "      <th>ProductId</th>\n",
              "      <th>UserId</th>\n",
              "      <th>ProfileName</th>\n",
              "      <th>HelpfulnessNumerator</th>\n",
              "      <th>HelpfulnessDenominator</th>\n",
              "      <th>Score</th>\n",
              "      <th>Time</th>\n",
              "      <th>Summary</th>\n",
              "      <th>Text</th>\n",
              "    </tr>\n",
              "  </thead>\n",
              "  <tbody>\n",
              "    <tr>\n",
              "      <th>0</th>\n",
              "      <td>1</td>\n",
              "      <td>B001E4KFG0</td>\n",
              "      <td>A3SGXH7AUHU8GW</td>\n",
              "      <td>delmartian</td>\n",
              "      <td>1</td>\n",
              "      <td>1</td>\n",
              "      <td>5</td>\n",
              "      <td>1303862400</td>\n",
              "      <td>Good Quality Dog Food</td>\n",
              "      <td>I have bought several of the Vitality canned dog food products and have found them all to be of good quality. The product looks more like a stew than a processed meat and it smells better. My Labr...</td>\n",
              "    </tr>\n",
              "    <tr>\n",
              "      <th>1</th>\n",
              "      <td>2</td>\n",
              "      <td>B00813GRG4</td>\n",
              "      <td>A1D87F6ZCVE5NK</td>\n",
              "      <td>dll pa</td>\n",
              "      <td>0</td>\n",
              "      <td>0</td>\n",
              "      <td>1</td>\n",
              "      <td>1346976000</td>\n",
              "      <td>Not as Advertised</td>\n",
              "      <td>Product arrived labeled as Jumbo Salted Peanuts...the peanuts were actually small sized unsalted. Not sure if this was an error or if the vendor intended to represent the product as \"Jumbo\".</td>\n",
              "    </tr>\n",
              "  </tbody>\n",
              "</table>\n",
              "</div>\n",
              "      <button class=\"colab-df-convert\" onclick=\"convertToInteractive('df-147d9a34-1f22-49e5-b015-c1d2b95703cf')\"\n",
              "              title=\"Convert this dataframe to an interactive table.\"\n",
              "              style=\"display:none;\">\n",
              "        \n",
              "  <svg xmlns=\"http://www.w3.org/2000/svg\" height=\"24px\"viewBox=\"0 0 24 24\"\n",
              "       width=\"24px\">\n",
              "    <path d=\"M0 0h24v24H0V0z\" fill=\"none\"/>\n",
              "    <path d=\"M18.56 5.44l.94 2.06.94-2.06 2.06-.94-2.06-.94-.94-2.06-.94 2.06-2.06.94zm-11 1L8.5 8.5l.94-2.06 2.06-.94-2.06-.94L8.5 2.5l-.94 2.06-2.06.94zm10 10l.94 2.06.94-2.06 2.06-.94-2.06-.94-.94-2.06-.94 2.06-2.06.94z\"/><path d=\"M17.41 7.96l-1.37-1.37c-.4-.4-.92-.59-1.43-.59-.52 0-1.04.2-1.43.59L10.3 9.45l-7.72 7.72c-.78.78-.78 2.05 0 2.83L4 21.41c.39.39.9.59 1.41.59.51 0 1.02-.2 1.41-.59l7.78-7.78 2.81-2.81c.8-.78.8-2.07 0-2.86zM5.41 20L4 18.59l7.72-7.72 1.47 1.35L5.41 20z\"/>\n",
              "  </svg>\n",
              "      </button>\n",
              "      \n",
              "  <style>\n",
              "    .colab-df-container {\n",
              "      display:flex;\n",
              "      flex-wrap:wrap;\n",
              "      gap: 12px;\n",
              "    }\n",
              "\n",
              "    .colab-df-convert {\n",
              "      background-color: #E8F0FE;\n",
              "      border: none;\n",
              "      border-radius: 50%;\n",
              "      cursor: pointer;\n",
              "      display: none;\n",
              "      fill: #1967D2;\n",
              "      height: 32px;\n",
              "      padding: 0 0 0 0;\n",
              "      width: 32px;\n",
              "    }\n",
              "\n",
              "    .colab-df-convert:hover {\n",
              "      background-color: #E2EBFA;\n",
              "      box-shadow: 0px 1px 2px rgba(60, 64, 67, 0.3), 0px 1px 3px 1px rgba(60, 64, 67, 0.15);\n",
              "      fill: #174EA6;\n",
              "    }\n",
              "\n",
              "    [theme=dark] .colab-df-convert {\n",
              "      background-color: #3B4455;\n",
              "      fill: #D2E3FC;\n",
              "    }\n",
              "\n",
              "    [theme=dark] .colab-df-convert:hover {\n",
              "      background-color: #434B5C;\n",
              "      box-shadow: 0px 1px 3px 1px rgba(0, 0, 0, 0.15);\n",
              "      filter: drop-shadow(0px 1px 2px rgba(0, 0, 0, 0.3));\n",
              "      fill: #FFFFFF;\n",
              "    }\n",
              "  </style>\n",
              "\n",
              "      <script>\n",
              "        const buttonEl =\n",
              "          document.querySelector('#df-147d9a34-1f22-49e5-b015-c1d2b95703cf button.colab-df-convert');\n",
              "        buttonEl.style.display =\n",
              "          google.colab.kernel.accessAllowed ? 'block' : 'none';\n",
              "\n",
              "        async function convertToInteractive(key) {\n",
              "          const element = document.querySelector('#df-147d9a34-1f22-49e5-b015-c1d2b95703cf');\n",
              "          const dataTable =\n",
              "            await google.colab.kernel.invokeFunction('convertToInteractive',\n",
              "                                                     [key], {});\n",
              "          if (!dataTable) return;\n",
              "\n",
              "          const docLinkHtml = 'Like what you see? Visit the ' +\n",
              "            '<a target=\"_blank\" href=https://colab.research.google.com/notebooks/data_table.ipynb>data table notebook</a>'\n",
              "            + ' to learn more about interactive tables.';\n",
              "          element.innerHTML = '';\n",
              "          dataTable['output_type'] = 'display_data';\n",
              "          await google.colab.output.renderOutput(dataTable, element);\n",
              "          const docLink = document.createElement('div');\n",
              "          docLink.innerHTML = docLinkHtml;\n",
              "          element.appendChild(docLink);\n",
              "        }\n",
              "      </script>\n",
              "    </div>\n",
              "  </div>\n",
              "  "
            ]
          },
          "metadata": {},
          "execution_count": 2
        }
      ]
    },
    {
      "cell_type": "code",
      "source": [
        "data.shape"
      ],
      "metadata": {
        "colab": {
          "base_uri": "https://localhost:8080/"
        },
        "id": "vEwSqlMtVjfs",
        "outputId": "45ade518-616c-4675-f1ac-801c6555a8cb"
      },
      "execution_count": 3,
      "outputs": [
        {
          "output_type": "execute_result",
          "data": {
            "text/plain": [
              "(100000, 10)"
            ]
          },
          "metadata": {},
          "execution_count": 3
        }
      ]
    },
    {
      "cell_type": "markdown",
      "metadata": {
        "id": "kGNQKvCaISIn"
      },
      "source": [
        "### Drop Duplicates and NA values"
      ]
    },
    {
      "cell_type": "code",
      "metadata": {
        "id": "Cjul88oOFxcr",
        "execution": {
          "iopub.status.busy": "2021-10-22T13:26:02.012361Z",
          "iopub.execute_input": "2021-10-22T13:26:02.012721Z",
          "iopub.status.idle": "2021-10-22T13:26:02.609266Z",
          "shell.execute_reply.started": "2021-10-22T13:26:02.01268Z",
          "shell.execute_reply": "2021-10-22T13:26:02.608333Z"
        },
        "trusted": true
      },
      "source": [
        "data.drop_duplicates(subset=['Text'],inplace=True)#dropping duplicates\n",
        "data.dropna(axis=0,inplace=True)#dropping na"
      ],
      "execution_count": 4,
      "outputs": []
    },
    {
      "cell_type": "markdown",
      "metadata": {
        "id": "r0xLYACiFxdJ"
      },
      "source": [
        "We will use dictionary for expanding the contractions:"
      ]
    },
    {
      "cell_type": "code",
      "metadata": {
        "id": "0s6IY-x2FxdL",
        "execution": {
          "iopub.status.busy": "2021-10-22T13:26:02.760483Z",
          "iopub.execute_input": "2021-10-22T13:26:02.760967Z",
          "iopub.status.idle": "2021-10-22T13:26:02.777894Z",
          "shell.execute_reply.started": "2021-10-22T13:26:02.760922Z",
          "shell.execute_reply": "2021-10-22T13:26:02.776889Z"
        },
        "trusted": true
      },
      "source": [
        "# A list of contractions from http://stackoverflow.com/questions/19790188/expanding-english-language-contractions-in-python\n",
        "#a unique type of word that combines two or more other words in a shortened form, usually with an apostrophe\n",
        "\n",
        "contraction_mapping = {\"ain't\": \"is not\", \"aren't\": \"are not\",\"can't\": \"cannot\", \"'cause\": \"because\", \"could've\": \"could have\", \"couldn't\": \"could not\",\n",
        "                           \"didn't\": \"did not\",  \"doesn't\": \"does not\", \"don't\": \"do not\", \"hadn't\": \"had not\", \"hasn't\": \"has not\", \"haven't\": \"have not\",\n",
        "                           \"he'd\": \"he would\",\"he'll\": \"he will\", \"he's\": \"he is\", \"how'd\": \"how did\", \"how'd'y\": \"how do you\", \"how'll\": \"how will\", \"how's\": \"how is\",\n",
        "                           \"I'd\": \"I would\", \"I'd've\": \"I would have\", \"I'll\": \"I will\", \"I'll've\": \"I will have\",\"I'm\": \"I am\", \"I've\": \"I have\", \"i'd\": \"i would\",\n",
        "                           \"i'd've\": \"i would have\", \"i'll\": \"i will\",  \"i'll've\": \"i will have\",\"i'm\": \"i am\", \"i've\": \"i have\", \"isn't\": \"is not\", \"it'd\": \"it would\",\n",
        "                           \"it'd've\": \"it would have\", \"it'll\": \"it will\", \"it'll've\": \"it will have\",\"it's\": \"it is\", \"let's\": \"let us\", \"ma'am\": \"madam\",\n",
        "                           \"mayn't\": \"may not\", \"might've\": \"might have\",\"mightn't\": \"might not\",\"mightn't've\": \"might not have\", \"must've\": \"must have\",\n",
        "                           \"mustn't\": \"must not\", \"mustn't've\": \"must not have\", \"needn't\": \"need not\", \"needn't've\": \"need not have\",\"o'clock\": \"of the clock\",\n",
        "                           \"oughtn't\": \"ought not\", \"oughtn't've\": \"ought not have\", \"shan't\": \"shall not\", \"sha'n't\": \"shall not\", \"shan't've\": \"shall not have\",\n",
        "                           \"she'd\": \"she would\", \"she'd've\": \"she would have\", \"she'll\": \"she will\", \"she'll've\": \"she will have\", \"she's\": \"she is\",\n",
        "                           \"should've\": \"should have\", \"shouldn't\": \"should not\", \"shouldn't've\": \"should not have\", \"so've\": \"so have\",\"so's\": \"so as\",\n",
        "                           \"this's\": \"this is\",\"that'd\": \"that would\", \"that'd've\": \"that would have\", \"that's\": \"that is\", \"there'd\": \"there would\",\n",
        "                           \"there'd've\": \"there would have\", \"there's\": \"there is\", \"here's\": \"here is\",\"they'd\": \"they would\", \"they'd've\": \"they would have\",\n",
        "                           \"they'll\": \"they will\", \"they'll've\": \"they will have\", \"they're\": \"they are\", \"they've\": \"they have\", \"to've\": \"to have\",\n",
        "                           \"wasn't\": \"was not\", \"we'd\": \"we would\", \"we'd've\": \"we would have\", \"we'll\": \"we will\", \"we'll've\": \"we will have\", \"we're\": \"we are\",\n",
        "                           \"we've\": \"we have\", \"weren't\": \"were not\", \"what'll\": \"what will\", \"what'll've\": \"what will have\", \"what're\": \"what are\",\n",
        "                           \"what's\": \"what is\", \"what've\": \"what have\", \"when's\": \"when is\", \"when've\": \"when have\", \"where'd\": \"where did\", \"where's\": \"where is\",\n",
        "                           \"where've\": \"where have\", \"who'll\": \"who will\", \"who'll've\": \"who will have\", \"who's\": \"who is\", \"who've\": \"who have\",\n",
        "                           \"why's\": \"why is\", \"why've\": \"why have\", \"will've\": \"will have\", \"won't\": \"will not\", \"won't've\": \"will not have\",\n",
        "                           \"would've\": \"would have\", \"wouldn't\": \"would not\", \"wouldn't've\": \"would not have\", \"y'all\": \"you all\",\n",
        "                           \"y'all'd\": \"you all would\",\"y'all'd've\": \"you all would have\",\"y'all're\": \"you all are\",\"y'all've\": \"you all have\",\n",
        "                           \"you'd\": \"you would\", \"you'd've\": \"you would have\", \"you'll\": \"you will\", \"you'll've\": \"you will have\",\n",
        "                           \"you're\": \"you are\", \"you've\": \"you have\"}"
      ],
      "execution_count": 5,
      "outputs": []
    },
    {
      "cell_type": "markdown",
      "metadata": {
        "id": "2JFRXFHmI7Mj"
      },
      "source": [
        "We will perform the below preprocessing tasks for our data:\n",
        "\n",
        "1.Convert everything to lowercase\n",
        "\n",
        "2.Remove HTML tags\n",
        "\n",
        "3.Contraction mapping\n",
        "\n",
        "4.Remove (‘s)\n",
        "\n",
        "5.Remove any text inside the parenthesis ( )\n",
        "\n",
        "6.Eliminate punctuations and special characters\n",
        "\n",
        "7.Remove stopwords\n",
        "\n",
        "8.Remove short words\n",
        "\n",
        "Let’s define the function:"
      ]
    },
    {
      "cell_type": "code",
      "metadata": {
        "id": "XZr-u3OEFxdT",
        "execution": {
          "iopub.status.busy": "2021-10-22T13:26:02.77972Z",
          "iopub.execute_input": "2021-10-22T13:26:02.780055Z",
          "iopub.status.idle": "2021-10-22T13:26:02.799652Z",
          "shell.execute_reply.started": "2021-10-22T13:26:02.780011Z",
          "shell.execute_reply": "2021-10-22T13:26:02.798631Z"
        },
        "trusted": true,
        "colab": {
          "base_uri": "https://localhost:8080/"
        },
        "outputId": "1b646181-b4ec-4889-abe2-3a03c8d539cd"
      },
      "source": [
        "import nltk\n",
        "nltk.download('stopwords')\n",
        "stop_words = set(stopwords.words('english')) \n",
        "\n",
        "def text_cleaner(text,num):\n",
        "    newString = text.lower()\n",
        "    newString = BeautifulSoup(newString, \"lxml\").text\n",
        "    newString = re.sub(r'\\([^)]*\\)', '', newString)\n",
        "    newString = re.sub('\"','', newString)\n",
        "    newString = ' '.join([contraction_mapping[t] if t in contraction_mapping else t for t in newString.split(\" \")])    \n",
        "    newString = re.sub(r\"'s\\b\",\"\",newString)\n",
        "    newString = re.sub(\"[^a-zA-Z]\", \" \", newString) \n",
        "    newString = re.sub('[m]{2,}', 'mm', newString)\n",
        "    if(num==0):\n",
        "        tokens = [w for w in newString.split() if not w in stop_words]\n",
        "    else:\n",
        "        tokens=newString.split()\n",
        "    long_words=[]\n",
        "    for i in tokens:\n",
        "        if len(i)>1:                                                 #removing short word\n",
        "            long_words.append(i)   \n",
        "    return (\" \".join(long_words)).strip()"
      ],
      "execution_count": 6,
      "outputs": [
        {
          "output_type": "stream",
          "name": "stderr",
          "text": [
            "[nltk_data] Downloading package stopwords to /root/nltk_data...\n",
            "[nltk_data]   Unzipping corpora/stopwords.zip.\n"
          ]
        }
      ]
    },
    {
      "cell_type": "code",
      "metadata": {
        "id": "A2QAeCHWFxdY",
        "execution": {
          "iopub.status.busy": "2021-10-22T13:26:02.801448Z",
          "iopub.execute_input": "2021-10-22T13:26:02.801796Z",
          "iopub.status.idle": "2021-10-22T13:27:51.888868Z",
          "shell.execute_reply.started": "2021-10-22T13:26:02.801753Z",
          "shell.execute_reply": "2021-10-22T13:27:51.887838Z"
        },
        "trusted": true
      },
      "source": [
        "#call the function\n",
        "cleaned_text = []\n",
        "for t in data['Text']:\n",
        "    cleaned_text.append(text_cleaner(t,0)) "
      ],
      "execution_count": 7,
      "outputs": []
    },
    {
      "cell_type": "markdown",
      "metadata": {
        "id": "snRZY8wjLao2"
      },
      "source": [
        "Let us look at the first five preprocessed reviews"
      ]
    },
    {
      "cell_type": "code",
      "metadata": {
        "id": "NCAIkhWbFxdh",
        "execution": {
          "iopub.status.busy": "2021-10-22T13:27:51.890334Z",
          "iopub.execute_input": "2021-10-22T13:27:51.890645Z",
          "iopub.status.idle": "2021-10-22T13:27:51.89975Z",
          "shell.execute_reply.started": "2021-10-22T13:27:51.8906Z",
          "shell.execute_reply": "2021-10-22T13:27:51.898499Z"
        },
        "trusted": true,
        "colab": {
          "base_uri": "https://localhost:8080/"
        },
        "outputId": "f5239382-90d3-4e81-c022-f6d1bc9f0256"
      },
      "source": [
        "cleaned_text[:5]  "
      ],
      "execution_count": 8,
      "outputs": [
        {
          "output_type": "execute_result",
          "data": {
            "text/plain": [
              "['bought several vitality canned dog food products found good quality product looks like stew processed meat smells better labrador finicky appreciates product better',\n",
              " 'product arrived labeled jumbo salted peanuts peanuts actually small sized unsalted sure error vendor intended represent product jumbo',\n",
              " 'confection around centuries light pillowy citrus gelatin nuts case filberts cut tiny squares liberally coated powdered sugar tiny mouthful heaven chewy flavorful highly recommend yummy treat familiar story lewis lion witch wardrobe treat seduces edmund selling brother sisters witch',\n",
              " 'looking secret ingredient robitussin believe found got addition root beer extract ordered made cherry soda flavor medicinal',\n",
              " 'great taffy great price wide assortment yummy taffy delivery quick taffy lover deal']"
            ]
          },
          "metadata": {},
          "execution_count": 8
        }
      ]
    },
    {
      "cell_type": "code",
      "metadata": {
        "id": "GsRXocxoFxd-",
        "execution": {
          "iopub.status.busy": "2021-10-22T13:27:51.905385Z",
          "iopub.execute_input": "2021-10-22T13:27:51.906082Z",
          "iopub.status.idle": "2021-10-22T13:29:07.925276Z",
          "shell.execute_reply.started": "2021-10-22T13:27:51.905999Z",
          "shell.execute_reply": "2021-10-22T13:29:07.924211Z"
        },
        "trusted": true
      },
      "source": [
        "#call the function\n",
        "cleaned_summary = []\n",
        "for t in data['Summary']:\n",
        "    cleaned_summary.append(text_cleaner(t,1))"
      ],
      "execution_count": 9,
      "outputs": []
    },
    {
      "cell_type": "markdown",
      "metadata": {
        "id": "oZeD0gs6Lnb-"
      },
      "source": [
        "Let us look at the first 10 preprocessed summaries"
      ]
    },
    {
      "cell_type": "code",
      "metadata": {
        "id": "jQJdZcAzFxee",
        "execution": {
          "iopub.status.busy": "2021-10-22T13:29:07.927026Z",
          "iopub.execute_input": "2021-10-22T13:29:07.927381Z",
          "iopub.status.idle": "2021-10-22T13:29:07.935735Z",
          "shell.execute_reply.started": "2021-10-22T13:29:07.927335Z",
          "shell.execute_reply": "2021-10-22T13:29:07.934623Z"
        },
        "trusted": true,
        "colab": {
          "base_uri": "https://localhost:8080/"
        },
        "outputId": "6eb409a1-2cdc-492b-92b5-639244b87860"
      },
      "source": [
        "cleaned_summary[:10]"
      ],
      "execution_count": 10,
      "outputs": [
        {
          "output_type": "execute_result",
          "data": {
            "text/plain": [
              "['good quality dog food',\n",
              " 'not as advertised',\n",
              " 'delight says it all',\n",
              " 'cough medicine',\n",
              " 'great taffy',\n",
              " 'nice taffy',\n",
              " 'great just as good as the expensive brands',\n",
              " 'wonderful tasty taffy',\n",
              " 'yay barley',\n",
              " 'healthy dog food']"
            ]
          },
          "metadata": {},
          "execution_count": 10
        }
      ]
    },
    {
      "cell_type": "code",
      "metadata": {
        "id": "L1zLpnqsFxey",
        "execution": {
          "iopub.status.busy": "2021-10-22T13:29:07.937694Z",
          "iopub.execute_input": "2021-10-22T13:29:07.938828Z",
          "iopub.status.idle": "2021-10-22T13:29:08.011238Z",
          "shell.execute_reply.started": "2021-10-22T13:29:07.938779Z",
          "shell.execute_reply": "2021-10-22T13:29:08.010157Z"
        },
        "trusted": true
      },
      "source": [
        "data['cleaned_text']=cleaned_text\n",
        "data['cleaned_summary']=cleaned_summary"
      ],
      "execution_count": 11,
      "outputs": []
    },
    {
      "cell_type": "code",
      "source": [
        "data.head(2)"
      ],
      "metadata": {
        "colab": {
          "base_uri": "https://localhost:8080/",
          "height": 486
        },
        "id": "Jor9ztH1Jd84",
        "outputId": "f13bee34-5da6-4119-ab24-2750e3bfcbe8"
      },
      "execution_count": 12,
      "outputs": [
        {
          "output_type": "execute_result",
          "data": {
            "text/plain": [
              "   Id   ProductId          UserId ProfileName  HelpfulnessNumerator  \\\n",
              "0   1  B001E4KFG0  A3SGXH7AUHU8GW  delmartian                     1   \n",
              "1   2  B00813GRG4  A1D87F6ZCVE5NK      dll pa                     0   \n",
              "\n",
              "   HelpfulnessDenominator  Score        Time                Summary  \\\n",
              "0                       1      5  1303862400  Good Quality Dog Food   \n",
              "1                       0      1  1346976000      Not as Advertised   \n",
              "\n",
              "                                                                                                                                                                                                      Text  \\\n",
              "0  I have bought several of the Vitality canned dog food products and have found them all to be of good quality. The product looks more like a stew than a processed meat and it smells better. My Labr...   \n",
              "1           Product arrived labeled as Jumbo Salted Peanuts...the peanuts were actually small sized unsalted. Not sure if this was an error or if the vendor intended to represent the product as \"Jumbo\".   \n",
              "\n",
              "                                                                                                                                                           cleaned_text  \\\n",
              "0  bought several vitality canned dog food products found good quality product looks like stew processed meat smells better labrador finicky appreciates product better   \n",
              "1                                 product arrived labeled jumbo salted peanuts peanuts actually small sized unsalted sure error vendor intended represent product jumbo   \n",
              "\n",
              "         cleaned_summary  \n",
              "0  good quality dog food  \n",
              "1      not as advertised  "
            ],
            "text/html": [
              "\n",
              "  <div id=\"df-1602c867-d8b7-4a57-a72e-d6e324cb7837\">\n",
              "    <div class=\"colab-df-container\">\n",
              "      <div>\n",
              "<style scoped>\n",
              "    .dataframe tbody tr th:only-of-type {\n",
              "        vertical-align: middle;\n",
              "    }\n",
              "\n",
              "    .dataframe tbody tr th {\n",
              "        vertical-align: top;\n",
              "    }\n",
              "\n",
              "    .dataframe thead th {\n",
              "        text-align: right;\n",
              "    }\n",
              "</style>\n",
              "<table border=\"1\" class=\"dataframe\">\n",
              "  <thead>\n",
              "    <tr style=\"text-align: right;\">\n",
              "      <th></th>\n",
              "      <th>Id</th>\n",
              "      <th>ProductId</th>\n",
              "      <th>UserId</th>\n",
              "      <th>ProfileName</th>\n",
              "      <th>HelpfulnessNumerator</th>\n",
              "      <th>HelpfulnessDenominator</th>\n",
              "      <th>Score</th>\n",
              "      <th>Time</th>\n",
              "      <th>Summary</th>\n",
              "      <th>Text</th>\n",
              "      <th>cleaned_text</th>\n",
              "      <th>cleaned_summary</th>\n",
              "    </tr>\n",
              "  </thead>\n",
              "  <tbody>\n",
              "    <tr>\n",
              "      <th>0</th>\n",
              "      <td>1</td>\n",
              "      <td>B001E4KFG0</td>\n",
              "      <td>A3SGXH7AUHU8GW</td>\n",
              "      <td>delmartian</td>\n",
              "      <td>1</td>\n",
              "      <td>1</td>\n",
              "      <td>5</td>\n",
              "      <td>1303862400</td>\n",
              "      <td>Good Quality Dog Food</td>\n",
              "      <td>I have bought several of the Vitality canned dog food products and have found them all to be of good quality. The product looks more like a stew than a processed meat and it smells better. My Labr...</td>\n",
              "      <td>bought several vitality canned dog food products found good quality product looks like stew processed meat smells better labrador finicky appreciates product better</td>\n",
              "      <td>good quality dog food</td>\n",
              "    </tr>\n",
              "    <tr>\n",
              "      <th>1</th>\n",
              "      <td>2</td>\n",
              "      <td>B00813GRG4</td>\n",
              "      <td>A1D87F6ZCVE5NK</td>\n",
              "      <td>dll pa</td>\n",
              "      <td>0</td>\n",
              "      <td>0</td>\n",
              "      <td>1</td>\n",
              "      <td>1346976000</td>\n",
              "      <td>Not as Advertised</td>\n",
              "      <td>Product arrived labeled as Jumbo Salted Peanuts...the peanuts were actually small sized unsalted. Not sure if this was an error or if the vendor intended to represent the product as \"Jumbo\".</td>\n",
              "      <td>product arrived labeled jumbo salted peanuts peanuts actually small sized unsalted sure error vendor intended represent product jumbo</td>\n",
              "      <td>not as advertised</td>\n",
              "    </tr>\n",
              "  </tbody>\n",
              "</table>\n",
              "</div>\n",
              "      <button class=\"colab-df-convert\" onclick=\"convertToInteractive('df-1602c867-d8b7-4a57-a72e-d6e324cb7837')\"\n",
              "              title=\"Convert this dataframe to an interactive table.\"\n",
              "              style=\"display:none;\">\n",
              "        \n",
              "  <svg xmlns=\"http://www.w3.org/2000/svg\" height=\"24px\"viewBox=\"0 0 24 24\"\n",
              "       width=\"24px\">\n",
              "    <path d=\"M0 0h24v24H0V0z\" fill=\"none\"/>\n",
              "    <path d=\"M18.56 5.44l.94 2.06.94-2.06 2.06-.94-2.06-.94-.94-2.06-.94 2.06-2.06.94zm-11 1L8.5 8.5l.94-2.06 2.06-.94-2.06-.94L8.5 2.5l-.94 2.06-2.06.94zm10 10l.94 2.06.94-2.06 2.06-.94-2.06-.94-.94-2.06-.94 2.06-2.06.94z\"/><path d=\"M17.41 7.96l-1.37-1.37c-.4-.4-.92-.59-1.43-.59-.52 0-1.04.2-1.43.59L10.3 9.45l-7.72 7.72c-.78.78-.78 2.05 0 2.83L4 21.41c.39.39.9.59 1.41.59.51 0 1.02-.2 1.41-.59l7.78-7.78 2.81-2.81c.8-.78.8-2.07 0-2.86zM5.41 20L4 18.59l7.72-7.72 1.47 1.35L5.41 20z\"/>\n",
              "  </svg>\n",
              "      </button>\n",
              "      \n",
              "  <style>\n",
              "    .colab-df-container {\n",
              "      display:flex;\n",
              "      flex-wrap:wrap;\n",
              "      gap: 12px;\n",
              "    }\n",
              "\n",
              "    .colab-df-convert {\n",
              "      background-color: #E8F0FE;\n",
              "      border: none;\n",
              "      border-radius: 50%;\n",
              "      cursor: pointer;\n",
              "      display: none;\n",
              "      fill: #1967D2;\n",
              "      height: 32px;\n",
              "      padding: 0 0 0 0;\n",
              "      width: 32px;\n",
              "    }\n",
              "\n",
              "    .colab-df-convert:hover {\n",
              "      background-color: #E2EBFA;\n",
              "      box-shadow: 0px 1px 2px rgba(60, 64, 67, 0.3), 0px 1px 3px 1px rgba(60, 64, 67, 0.15);\n",
              "      fill: #174EA6;\n",
              "    }\n",
              "\n",
              "    [theme=dark] .colab-df-convert {\n",
              "      background-color: #3B4455;\n",
              "      fill: #D2E3FC;\n",
              "    }\n",
              "\n",
              "    [theme=dark] .colab-df-convert:hover {\n",
              "      background-color: #434B5C;\n",
              "      box-shadow: 0px 1px 3px 1px rgba(0, 0, 0, 0.15);\n",
              "      filter: drop-shadow(0px 1px 2px rgba(0, 0, 0, 0.3));\n",
              "      fill: #FFFFFF;\n",
              "    }\n",
              "  </style>\n",
              "\n",
              "      <script>\n",
              "        const buttonEl =\n",
              "          document.querySelector('#df-1602c867-d8b7-4a57-a72e-d6e324cb7837 button.colab-df-convert');\n",
              "        buttonEl.style.display =\n",
              "          google.colab.kernel.accessAllowed ? 'block' : 'none';\n",
              "\n",
              "        async function convertToInteractive(key) {\n",
              "          const element = document.querySelector('#df-1602c867-d8b7-4a57-a72e-d6e324cb7837');\n",
              "          const dataTable =\n",
              "            await google.colab.kernel.invokeFunction('convertToInteractive',\n",
              "                                                     [key], {});\n",
              "          if (!dataTable) return;\n",
              "\n",
              "          const docLinkHtml = 'Like what you see? Visit the ' +\n",
              "            '<a target=\"_blank\" href=https://colab.research.google.com/notebooks/data_table.ipynb>data table notebook</a>'\n",
              "            + ' to learn more about interactive tables.';\n",
              "          element.innerHTML = '';\n",
              "          dataTable['output_type'] = 'display_data';\n",
              "          await google.colab.output.renderOutput(dataTable, element);\n",
              "          const docLink = document.createElement('div');\n",
              "          docLink.innerHTML = docLinkHtml;\n",
              "          element.appendChild(docLink);\n",
              "        }\n",
              "      </script>\n",
              "    </div>\n",
              "  </div>\n",
              "  "
            ]
          },
          "metadata": {},
          "execution_count": 12
        }
      ]
    },
    {
      "cell_type": "markdown",
      "metadata": {
        "id": "KT_D2cLiLy77"
      },
      "source": [
        "### Drop empty rows"
      ]
    },
    {
      "cell_type": "code",
      "metadata": {
        "id": "sYK390unFxfA",
        "execution": {
          "iopub.status.busy": "2021-10-22T13:29:08.013161Z",
          "iopub.execute_input": "2021-10-22T13:29:08.013944Z",
          "iopub.status.idle": "2021-10-22T13:29:08.554093Z",
          "shell.execute_reply.started": "2021-10-22T13:29:08.013879Z",
          "shell.execute_reply": "2021-10-22T13:29:08.552983Z"
        },
        "trusted": true
      },
      "source": [
        "data.replace('', np.nan, inplace=True)\n",
        "data.dropna(axis=0,inplace=True)"
      ],
      "execution_count": 13,
      "outputs": []
    },
    {
      "cell_type": "markdown",
      "metadata": {
        "id": "Vm8Fk2TCL7Sp"
      },
      "source": [
        "# Analyzing and Preparing the Data\n",
        "\n",
        "We will analyze the length of the reviews and the summary to get an overall idea about the distribution of length of the text to fix the maximum length of the sequence:"
      ]
    },
    {
      "cell_type": "code",
      "metadata": {
        "id": "MdF76AHHFxgw",
        "execution": {
          "iopub.status.busy": "2021-10-22T13:29:08.556929Z",
          "iopub.execute_input": "2021-10-22T13:29:08.557781Z",
          "iopub.status.idle": "2021-10-22T13:29:10.288945Z",
          "shell.execute_reply.started": "2021-10-22T13:29:08.557736Z",
          "shell.execute_reply": "2021-10-22T13:29:10.286788Z"
        },
        "trusted": true,
        "colab": {
          "base_uri": "https://localhost:8080/",
          "height": 281
        },
        "outputId": "c1b363a9-df7e-4b0b-c415-906d4bb47fe9"
      },
      "source": [
        "import matplotlib.pyplot as plt\n",
        "\n",
        "text_word_count = []\n",
        "summary_word_count = []\n",
        "\n",
        "# populate the lists with sentence lengths\n",
        "for i in data['cleaned_text']:\n",
        "      text_word_count.append(len(i.split()))\n",
        "\n",
        "for i in data['cleaned_summary']:\n",
        "      summary_word_count.append(len(i.split()))\n",
        "\n",
        "length_df = pd.DataFrame({'text':text_word_count, 'summary':summary_word_count})\n",
        "\n",
        "length_df.hist(bins = 30)\n",
        "plt.show()"
      ],
      "execution_count": 14,
      "outputs": [
        {
          "output_type": "display_data",
          "data": {
            "text/plain": [
              "<Figure size 432x288 with 2 Axes>"
            ],
            "image/png": "[encoded data removed]"
          },
          "metadata": {
            "needs_background": "light"
          }
        }
      ]
    },
    {
      "cell_type": "code",
      "metadata": {
        "id": "7JRjwdIOFxg3",
        "execution": {
          "iopub.status.busy": "2021-10-22T13:29:10.295476Z",
          "iopub.execute_input": "2021-10-22T13:29:10.296501Z",
          "iopub.status.idle": "2021-10-22T13:29:10.646042Z",
          "shell.execute_reply.started": "2021-10-22T13:29:10.296452Z",
          "shell.execute_reply": "2021-10-22T13:29:10.645127Z"
        },
        "trusted": true,
        "colab": {
          "base_uri": "https://localhost:8080/"
        },
        "outputId": "d57bb70a-b79a-4d54-ee2d-5918fbfa59c9"
      },
      "source": [
        "cnt=0\n",
        "for i in data['cleaned_summary']:\n",
        "    if(len(i.split())<=8):\n",
        "        cnt=cnt+1\n",
        "print(cnt/len(data['cleaned_summary']))"
      ],
      "execution_count": 15,
      "outputs": [
        {
          "output_type": "stream",
          "name": "stdout",
          "text": [
            "0.9424926998211739\n"
          ]
        }
      ]
    },
    {
      "cell_type": "markdown",
      "metadata": {
        "id": "yYB4Ga9KMjEu"
      },
      "source": [
        "We observe that 94% of the summaries have length below 8. So, we can fix maximum length of summary to 8.\n",
        "\n",
        "Let us fix the maximum length of review to 30"
      ]
    },
    {
      "cell_type": "code",
      "metadata": {
        "id": "ZKD5VOWqFxhC",
        "execution": {
          "iopub.status.busy": "2021-10-22T13:29:10.651719Z",
          "iopub.execute_input": "2021-10-22T13:29:10.652787Z",
          "iopub.status.idle": "2021-10-22T13:29:10.662726Z",
          "shell.execute_reply.started": "2021-10-22T13:29:10.652744Z",
          "shell.execute_reply": "2021-10-22T13:29:10.661557Z"
        },
        "trusted": true
      },
      "source": [
        "max_text_len=30\n",
        "max_summary_len=8"
      ],
      "execution_count": 16,
      "outputs": []
    },
    {
      "cell_type": "markdown",
      "metadata": {
        "id": "E6d48E-8M4VO"
      },
      "source": [
        "Select the reviews and summaries whose length falls below or equal to **max_text_len** and **max_summary_len**"
      ]
    },
    {
      "cell_type": "code",
      "metadata": {
        "id": "yY0tEJP0FxhI",
        "execution": {
          "iopub.status.busy": "2021-10-22T13:29:10.664306Z",
          "iopub.execute_input": "2021-10-22T13:29:10.665248Z",
          "iopub.status.idle": "2021-10-22T13:29:11.578593Z",
          "shell.execute_reply.started": "2021-10-22T13:29:10.665202Z",
          "shell.execute_reply": "2021-10-22T13:29:11.577603Z"
        },
        "trusted": true
      },
      "source": [
        "cleaned_text =np.array(data['cleaned_text'])\n",
        "cleaned_summary=np.array(data['cleaned_summary'])\n",
        "\n",
        "short_text=[]\n",
        "short_summary=[]\n",
        "\n",
        "for i in range(len(cleaned_text)):\n",
        "    if(len(cleaned_summary[i].split())<=max_summary_len and len(cleaned_text[i].split())<=max_text_len):\n",
        "        short_text.append(cleaned_text[i])\n",
        "        short_summary.append(cleaned_summary[i])\n",
        "        \n",
        "df=pd.DataFrame({'text':short_text,'summary':short_summary})"
      ],
      "execution_count": 17,
      "outputs": []
    },
    {
      "cell_type": "code",
      "source": [
        "df.head()"
      ],
      "metadata": {
        "colab": {
          "base_uri": "https://localhost:8080/",
          "height": 267
        },
        "id": "HxcJI394KxHE",
        "outputId": "72f341d9-15b9-48d5-8062-e54f6da60c32"
      },
      "execution_count": 18,
      "outputs": [
        {
          "output_type": "execute_result",
          "data": {
            "text/plain": [
              "                                                                                                                                                                                                      text  \\\n",
              "0                                     bought several vitality canned dog food products found good quality product looks like stew processed meat smells better labrador finicky appreciates product better   \n",
              "1                                                                    product arrived labeled jumbo salted peanuts peanuts actually small sized unsalted sure error vendor intended represent product jumbo   \n",
              "2                                                                              looking secret ingredient robitussin believe found got addition root beer extract ordered made cherry soda flavor medicinal   \n",
              "3                                                                                                                      great taffy great price wide assortment yummy taffy delivery quick taffy lover deal   \n",
              "4  saltwater taffy great flavors soft chewy candy individually wrapped well none candies stuck together happen expensive version fralinger would highly recommend candy served beach themed party every...   \n",
              "\n",
              "                                      summary  \n",
              "0                       good quality dog food  \n",
              "1                           not as advertised  \n",
              "2                              cough medicine  \n",
              "3                                 great taffy  \n",
              "4  great just as good as the expensive brands  "
            ],
            "text/html": [
              "\n",
              "  <div id=\"df-47088339-9cda-4d63-8d60-823152816e4a\">\n",
              "    <div class=\"colab-df-container\">\n",
              "      <div>\n",
              "<style scoped>\n",
              "    .dataframe tbody tr th:only-of-type {\n",
              "        vertical-align: middle;\n",
              "    }\n",
              "\n",
              "    .dataframe tbody tr th {\n",
              "        vertical-align: top;\n",
              "    }\n",
              "\n",
              "    .dataframe thead th {\n",
              "        text-align: right;\n",
              "    }\n",
              "</style>\n",
              "<table border=\"1\" class=\"dataframe\">\n",
              "  <thead>\n",
              "    <tr style=\"text-align: right;\">\n",
              "      <th></th>\n",
              "      <th>text</th>\n",
              "      <th>summary</th>\n",
              "    </tr>\n",
              "  </thead>\n",
              "  <tbody>\n",
              "    <tr>\n",
              "      <th>0</th>\n",
              "      <td>bought several vitality canned dog food products found good quality product looks like stew processed meat smells better labrador finicky appreciates product better</td>\n",
              "      <td>good quality dog food</td>\n",
              "    </tr>\n",
              "    <tr>\n",
              "      <th>1</th>\n",
              "      <td>product arrived labeled jumbo salted peanuts peanuts actually small sized unsalted sure error vendor intended represent product jumbo</td>\n",
              "      <td>not as advertised</td>\n",
              "    </tr>\n",
              "    <tr>\n",
              "      <th>2</th>\n",
              "      <td>looking secret ingredient robitussin believe found got addition root beer extract ordered made cherry soda flavor medicinal</td>\n",
              "      <td>cough medicine</td>\n",
              "    </tr>\n",
              "    <tr>\n",
              "      <th>3</th>\n",
              "      <td>great taffy great price wide assortment yummy taffy delivery quick taffy lover deal</td>\n",
              "      <td>great taffy</td>\n",
              "    </tr>\n",
              "    <tr>\n",
              "      <th>4</th>\n",
              "      <td>saltwater taffy great flavors soft chewy candy individually wrapped well none candies stuck together happen expensive version fralinger would highly recommend candy served beach themed party every...</td>\n",
              "      <td>great just as good as the expensive brands</td>\n",
              "    </tr>\n",
              "  </tbody>\n",
              "</table>\n",
              "</div>\n",
              "      <button class=\"colab-df-convert\" onclick=\"convertToInteractive('df-47088339-9cda-4d63-8d60-823152816e4a')\"\n",
              "              title=\"Convert this dataframe to an interactive table.\"\n",
              "              style=\"display:none;\">\n",
              "        \n",
              "  <svg xmlns=\"http://www.w3.org/2000/svg\" height=\"24px\"viewBox=\"0 0 24 24\"\n",
              "       width=\"24px\">\n",
              "    <path d=\"M0 0h24v24H0V0z\" fill=\"none\"/>\n",
              "    <path d=\"M18.56 5.44l.94 2.06.94-2.06 2.06-.94-2.06-.94-.94-2.06-.94 2.06-2.06.94zm-11 1L8.5 8.5l.94-2.06 2.06-.94-2.06-.94L8.5 2.5l-.94 2.06-2.06.94zm10 10l.94 2.06.94-2.06 2.06-.94-2.06-.94-.94-2.06-.94 2.06-2.06.94z\"/><path d=\"M17.41 7.96l-1.37-1.37c-.4-.4-.92-.59-1.43-.59-.52 0-1.04.2-1.43.59L10.3 9.45l-7.72 7.72c-.78.78-.78 2.05 0 2.83L4 21.41c.39.39.9.59 1.41.59.51 0 1.02-.2 1.41-.59l7.78-7.78 2.81-2.81c.8-.78.8-2.07 0-2.86zM5.41 20L4 18.59l7.72-7.72 1.47 1.35L5.41 20z\"/>\n",
              "  </svg>\n",
              "      </button>\n",
              "      \n",
              "  <style>\n",
              "    .colab-df-container {\n",
              "      display:flex;\n",
              "      flex-wrap:wrap;\n",
              "      gap: 12px;\n",
              "    }\n",
              "\n",
              "    .colab-df-convert {\n",
              "      background-color: #E8F0FE;\n",
              "      border: none;\n",
              "      border-radius: 50%;\n",
              "      cursor: pointer;\n",
              "      display: none;\n",
              "      fill: #1967D2;\n",
              "      height: 32px;\n",
              "      padding: 0 0 0 0;\n",
              "      width: 32px;\n",
              "    }\n",
              "\n",
              "    .colab-df-convert:hover {\n",
              "      background-color: #E2EBFA;\n",
              "      box-shadow: 0px 1px 2px rgba(60, 64, 67, 0.3), 0px 1px 3px 1px rgba(60, 64, 67, 0.15);\n",
              "      fill: #174EA6;\n",
              "    }\n",
              "\n",
              "    [theme=dark] .colab-df-convert {\n",
              "      background-color: #3B4455;\n",
              "      fill: #D2E3FC;\n",
              "    }\n",
              "\n",
              "    [theme=dark] .colab-df-convert:hover {\n",
              "      background-color: #434B5C;\n",
              "      box-shadow: 0px 1px 3px 1px rgba(0, 0, 0, 0.15);\n",
              "      filter: drop-shadow(0px 1px 2px rgba(0, 0, 0, 0.3));\n",
              "      fill: #FFFFFF;\n",
              "    }\n",
              "  </style>\n",
              "\n",
              "      <script>\n",
              "        const buttonEl =\n",
              "          document.querySelector('#df-47088339-9cda-4d63-8d60-823152816e4a button.colab-df-convert');\n",
              "        buttonEl.style.display =\n",
              "          google.colab.kernel.accessAllowed ? 'block' : 'none';\n",
              "\n",
              "        async function convertToInteractive(key) {\n",
              "          const element = document.querySelector('#df-47088339-9cda-4d63-8d60-823152816e4a');\n",
              "          const dataTable =\n",
              "            await google.colab.kernel.invokeFunction('convertToInteractive',\n",
              "                                                     [key], {});\n",
              "          if (!dataTable) return;\n",
              "\n",
              "          const docLinkHtml = 'Like what you see? Visit the ' +\n",
              "            '<a target=\"_blank\" href=https://colab.research.google.com/notebooks/data_table.ipynb>data table notebook</a>'\n",
              "            + ' to learn more about interactive tables.';\n",
              "          element.innerHTML = '';\n",
              "          dataTable['output_type'] = 'display_data';\n",
              "          await google.colab.output.renderOutput(dataTable, element);\n",
              "          const docLink = document.createElement('div');\n",
              "          docLink.innerHTML = docLinkHtml;\n",
              "          element.appendChild(docLink);\n",
              "        }\n",
              "      </script>\n",
              "    </div>\n",
              "  </div>\n",
              "  "
            ]
          },
          "metadata": {},
          "execution_count": 18
        }
      ]
    },
    {
      "cell_type": "markdown",
      "metadata": {
        "id": "tR1uh8xSNUma"
      },
      "source": [
        "We have to add the **START** and **END** special tokens at the beginning and end of the summary which does not appear anywhere in the summary.\n",
        "\n"
      ]
    },
    {
      "cell_type": "code",
      "metadata": {
        "id": "EwLUH78CFxhg",
        "execution": {
          "iopub.status.busy": "2021-10-22T13:29:11.580248Z",
          "iopub.execute_input": "2021-10-22T13:29:11.580541Z",
          "iopub.status.idle": "2021-10-22T13:29:11.660038Z",
          "shell.execute_reply.started": "2021-10-22T13:29:11.5805Z",
          "shell.execute_reply": "2021-10-22T13:29:11.659153Z"
        },
        "trusted": true
      },
      "source": [
        "df['summary'] = df['summary'].apply(lambda x : 'sostok '+ x + ' eostok')"
      ],
      "execution_count": 19,
      "outputs": []
    },
    {
      "cell_type": "markdown",
      "metadata": {
        "id": "1GlcX4RFOh13"
      },
      "source": [
        "### Splitting the Data\n",
        "We split our dataset into a training and validation set. We’ll use 80% of the dataset as the training data and 20% as the validation set."
      ]
    },
    {
      "cell_type": "code",
      "metadata": {
        "id": "RakakKHcFxhl",
        "execution": {
          "iopub.status.busy": "2021-10-22T13:29:11.662065Z",
          "iopub.execute_input": "2021-10-22T13:29:11.662546Z",
          "iopub.status.idle": "2021-10-22T13:29:11.690588Z",
          "shell.execute_reply.started": "2021-10-22T13:29:11.662499Z",
          "shell.execute_reply": "2021-10-22T13:29:11.689438Z"
        },
        "trusted": true
      },
      "source": [
        "from sklearn.model_selection import train_test_split\n",
        "x_tr,x_val,y_tr,y_val=train_test_split(np.array(df['text']),np.array(df['summary']),test_size=0.2,random_state=0,shuffle=True) "
      ],
      "execution_count": 20,
      "outputs": []
    },
    {
      "cell_type": "markdown",
      "metadata": {
        "id": "Vq1mqyOHOtIl"
      },
      "source": [
        "### Text Tokenizer\n",
        "\n",
        "A tokenizer builds the vocabulary and converts a word sequence to an integer sequence. "
      ]
    },
    {
      "cell_type": "code",
      "metadata": {
        "id": "oRHTgX6hFxhq",
        "execution": {
          "iopub.status.busy": "2021-10-22T13:29:11.692322Z",
          "iopub.execute_input": "2021-10-22T13:29:11.692689Z",
          "iopub.status.idle": "2021-10-22T13:29:14.505366Z",
          "shell.execute_reply.started": "2021-10-22T13:29:11.692646Z",
          "shell.execute_reply": "2021-10-22T13:29:14.504346Z"
        },
        "trusted": true
      },
      "source": [
        "from keras.preprocessing.text import Tokenizer \n",
        "from keras_preprocessing.sequence import pad_sequences\n",
        "\n",
        "#prepare a tokenizer for reviews on training data\n",
        "x_tokenizer = Tokenizer() \n",
        "x_tokenizer.fit_on_texts(list(x_tr))"
      ],
      "execution_count": 21,
      "outputs": []
    },
    {
      "cell_type": "markdown",
      "metadata": {
        "id": "RzvLwYL_PDcx"
      },
      "source": [
        "### Rarewords and its Coverage\n",
        "\n",
        "We are taking the threshold of 4 for rare words. We will find proportion and total coverage of rare words in entire text\n"
      ]
    },
    {
      "cell_type": "code",
      "metadata": {
        "id": "y8KronV2Fxhx",
        "execution": {
          "iopub.status.busy": "2021-10-22T13:29:14.507317Z",
          "iopub.execute_input": "2021-10-22T13:29:14.507652Z",
          "iopub.status.idle": "2021-10-22T13:29:14.544154Z",
          "shell.execute_reply.started": "2021-10-22T13:29:14.507604Z",
          "shell.execute_reply": "2021-10-22T13:29:14.543023Z"
        },
        "trusted": true,
        "colab": {
          "base_uri": "https://localhost:8080/"
        },
        "outputId": "26739ea2-aabd-47a8-ba0f-4600adfb267d"
      },
      "source": [
        "thresh=4\n",
        "\n",
        "cnt=0\n",
        "tot_cnt=0\n",
        "freq=0\n",
        "tot_freq=0\n",
        "\n",
        "for key,value in x_tokenizer.word_counts.items():\n",
        "    tot_cnt=tot_cnt+1\n",
        "    tot_freq=tot_freq+value\n",
        "    if(value<thresh):\n",
        "        cnt=cnt+1\n",
        "        freq=freq+value\n",
        "    \n",
        "print(\"% of rare words in vocabulary:\",(cnt/tot_cnt)*100)\n",
        "print(\"Total Coverage of rare words:\",(freq/tot_freq)*100)"
      ],
      "execution_count": 22,
      "outputs": [
        {
          "output_type": "stream",
          "name": "stdout",
          "text": [
            "% of rare words in vocabulary: 65.74381219698903\n",
            "Total Coverage of rare words: 3.112232706418543\n"
          ]
        }
      ]
    },
    {
      "cell_type": "code",
      "metadata": {
        "id": "J2giEsF3Fxh3",
        "execution": {
          "iopub.status.busy": "2021-10-22T13:29:14.545601Z",
          "iopub.execute_input": "2021-10-22T13:29:14.546432Z",
          "iopub.status.idle": "2021-10-22T13:29:21.244287Z",
          "shell.execute_reply.started": "2021-10-22T13:29:14.546385Z",
          "shell.execute_reply": "2021-10-22T13:29:21.242205Z"
        },
        "trusted": true
      },
      "source": [
        "#prepare a tokenizer for reviews on training data\n",
        "x_tokenizer = Tokenizer(num_words=tot_cnt-cnt) \n",
        "x_tokenizer.fit_on_texts(list(x_tr))\n",
        "\n",
        "#convert text sequences into integer sequences\n",
        "x_tr_seq    =   x_tokenizer.texts_to_sequences(x_tr) \n",
        "x_val_seq   =   x_tokenizer.texts_to_sequences(x_val)\n",
        "\n",
        "#padding zero upto maximum length\n",
        "x_tr    =   pad_sequences(x_tr_seq,  maxlen=max_text_len, padding='post')\n",
        "x_val   =   pad_sequences(x_val_seq, maxlen=max_text_len, padding='post')\n",
        "\n",
        "#size of vocabulary ( +1 for padding token)\n",
        "x_voc   =  x_tokenizer.num_words + 1"
      ],
      "execution_count": 23,
      "outputs": []
    },
    {
      "cell_type": "code",
      "metadata": {
        "id": "DCbGMsm4FxiA",
        "execution": {
          "iopub.status.busy": "2021-10-22T13:29:21.245815Z",
          "iopub.execute_input": "2021-10-22T13:29:21.246178Z",
          "iopub.status.idle": "2021-10-22T13:29:21.256425Z",
          "shell.execute_reply.started": "2021-10-22T13:29:21.246119Z",
          "shell.execute_reply": "2021-10-22T13:29:21.254742Z"
        },
        "trusted": true,
        "colab": {
          "base_uri": "https://localhost:8080/"
        },
        "outputId": "f7105d59-2ccb-4eb4-f85e-76750b51b34a"
      },
      "source": [
        "x_voc"
      ],
      "execution_count": 24,
      "outputs": [
        {
          "output_type": "execute_result",
          "data": {
            "text/plain": [
              "8056"
            ]
          },
          "metadata": {},
          "execution_count": 24
        }
      ]
    },
    {
      "cell_type": "markdown",
      "metadata": {
        "id": "uQfKP3sqRxi9"
      },
      "source": [
        "### Summary Tokenizer"
      ]
    },
    {
      "cell_type": "code",
      "metadata": {
        "id": "eRHqyBkBFxiJ",
        "execution": {
          "iopub.status.busy": "2021-10-22T13:29:21.25932Z",
          "iopub.execute_input": "2021-10-22T13:29:21.259744Z",
          "iopub.status.idle": "2021-10-22T13:29:22.933316Z",
          "shell.execute_reply.started": "2021-10-22T13:29:21.259659Z",
          "shell.execute_reply": "2021-10-22T13:29:22.93222Z"
        },
        "trusted": true
      },
      "source": [
        "#prepare a tokenizer for reviews on training data\n",
        "y_tokenizer = Tokenizer()   \n",
        "y_tokenizer.fit_on_texts(list(y_tr))"
      ],
      "execution_count": 25,
      "outputs": []
    },
    {
      "cell_type": "markdown",
      "metadata": {
        "id": "KInA6O6ZSkJz"
      },
      "source": [
        "Here we are taking the threshold of 6 for rare words. We will find proportion and total coverage of rare words in entire text"
      ]
    },
    {
      "cell_type": "code",
      "metadata": {
        "id": "yzE5OiRLFxiM",
        "execution": {
          "iopub.status.busy": "2021-10-22T13:29:22.934984Z",
          "iopub.execute_input": "2021-10-22T13:29:22.935308Z",
          "iopub.status.idle": "2021-10-22T13:29:22.959496Z",
          "shell.execute_reply.started": "2021-10-22T13:29:22.935258Z",
          "shell.execute_reply": "2021-10-22T13:29:22.958141Z"
        },
        "trusted": true,
        "colab": {
          "base_uri": "https://localhost:8080/"
        },
        "outputId": "b274a7d0-ae3f-44ff-9bc6-4864403ac4f3"
      },
      "source": [
        "thresh=6\n",
        "\n",
        "cnt=0\n",
        "tot_cnt=0\n",
        "freq=0\n",
        "tot_freq=0\n",
        "\n",
        "for key,value in y_tokenizer.word_counts.items():\n",
        "    tot_cnt=tot_cnt+1\n",
        "    tot_freq=tot_freq+value\n",
        "    if(value<thresh):\n",
        "        cnt=cnt+1\n",
        "        freq=freq+value\n",
        "    \n",
        "print(\"% of rare words in vocabulary:\",(cnt/tot_cnt)*100)\n",
        "print(\"Total Coverage of rare words:\",(freq/tot_freq)*100)"
      ],
      "execution_count": 26,
      "outputs": [
        {
          "output_type": "stream",
          "name": "stdout",
          "text": [
            "% of rare words in vocabulary: 78.39859731151373\n",
            "Total Coverage of rare words: 5.719517994273399\n"
          ]
        }
      ]
    },
    {
      "cell_type": "code",
      "metadata": {
        "id": "-fswLvIgFxiR",
        "execution": {
          "iopub.status.busy": "2021-10-22T13:29:22.961371Z",
          "iopub.execute_input": "2021-10-22T13:29:22.962027Z",
          "iopub.status.idle": "2021-10-22T13:29:26.799274Z",
          "shell.execute_reply.started": "2021-10-22T13:29:22.96196Z",
          "shell.execute_reply": "2021-10-22T13:29:26.798109Z"
        },
        "trusted": true
      },
      "source": [
        "#prepare a tokenizer for reviews on training data\n",
        "y_tokenizer = Tokenizer(num_words=tot_cnt-cnt) \n",
        "y_tokenizer.fit_on_texts(list(y_tr))\n",
        "\n",
        "#convert text sequences into integer sequences\n",
        "y_tr_seq    =   y_tokenizer.texts_to_sequences(y_tr) \n",
        "y_val_seq   =   y_tokenizer.texts_to_sequences(y_val) \n",
        "\n",
        "#padding zero upto maximum length\n",
        "y_tr    =   pad_sequences(y_tr_seq, maxlen=max_summary_len, padding='post')\n",
        "y_val   =   pad_sequences(y_val_seq, maxlen=max_summary_len, padding='post')\n",
        "\n",
        "#size of vocabulary\n",
        "y_voc  =   y_tokenizer.num_words +1"
      ],
      "execution_count": 27,
      "outputs": []
    },
    {
      "cell_type": "code",
      "source": [
        "y_voc"
      ],
      "metadata": {
        "colab": {
          "base_uri": "https://localhost:8080/"
        },
        "id": "JSMq3TDyN2YS",
        "outputId": "4ca77df5-a3fe-476d-f86b-f774c2d13881"
      },
      "execution_count": 28,
      "outputs": [
        {
          "output_type": "execute_result",
          "data": {
            "text/plain": [
              "1849"
            ]
          },
          "metadata": {},
          "execution_count": 28
        }
      ]
    },
    {
      "cell_type": "markdown",
      "metadata": {
        "id": "LVFhFVguTTtw"
      },
      "source": [
        "Here, I am deleting the rows that contain only **START** and **END** tokens because it will not be useful for training. "
      ]
    },
    {
      "cell_type": "code",
      "metadata": {
        "id": "kZ-vW82sFxih",
        "execution": {
          "iopub.status.busy": "2021-10-22T13:29:26.818749Z",
          "iopub.execute_input": "2021-10-22T13:29:26.81954Z",
          "iopub.status.idle": "2021-10-22T13:29:29.76584Z",
          "shell.execute_reply.started": "2021-10-22T13:29:26.819493Z",
          "shell.execute_reply": "2021-10-22T13:29:29.764752Z"
        },
        "trusted": true
      },
      "source": [
        "ind=[]\n",
        "for i in range(len(y_tr)):\n",
        "    cnt=0\n",
        "    for j in y_tr[i]:\n",
        "        if j!=0:\n",
        "            cnt=cnt+1\n",
        "    if(cnt==2):\n",
        "        ind.append(i)\n",
        "\n",
        "y_tr=np.delete(y_tr,ind, axis=0)\n",
        "x_tr=np.delete(x_tr,ind, axis=0)"
      ],
      "execution_count": 29,
      "outputs": []
    },
    {
      "cell_type": "code",
      "metadata": {
        "id": "cx5NISuMFxik",
        "execution": {
          "iopub.status.busy": "2021-10-22T13:29:29.780597Z",
          "iopub.execute_input": "2021-10-22T13:29:29.781052Z",
          "iopub.status.idle": "2021-10-22T13:29:30.157389Z",
          "shell.execute_reply.started": "2021-10-22T13:29:29.781004Z",
          "shell.execute_reply": "2021-10-22T13:29:30.156255Z"
        },
        "trusted": true
      },
      "source": [
        "ind=[]\n",
        "for i in range(len(y_val)):\n",
        "    cnt=0\n",
        "    for j in y_val[i]:\n",
        "        if j!=0:\n",
        "            cnt=cnt+1\n",
        "    if(cnt==2):\n",
        "        ind.append(i)\n",
        "\n",
        "y_val=np.delete(y_val,ind, axis=0)\n",
        "x_val=np.delete(x_val,ind, axis=0)"
      ],
      "execution_count": 30,
      "outputs": []
    },
    {
      "cell_type": "markdown",
      "metadata": {
        "id": "Bzx86S4TafbJ"
      },
      "source": [
        "# Model building\n"
      ]
    },
    {
      "cell_type": "markdown",
      "metadata": {
        "id": "iiUZM8xcaN7m"
      },
      "source": [
        "### Custom Attention Layer\n",
        "\n",
        "We have to build custom attention layer because keras does not officially support attention layer. We will use third-party implementation of custom attention layer"
      ]
    },
    {
      "cell_type": "code",
      "metadata": {
        "id": "mZ7-Kz3jaOrp"
      },
      "source": [
        "class AttentionLayer(Layer):\n",
        "    \"\"\"\n",
        "    This class implements Bahdanau attention (https://arxiv.org/pdf/1409.0473.pdf).\n",
        "    There are three sets of weights introduced W_a, U_a, and V_a\n",
        "     \"\"\"\n",
        "\n",
        "    def __init__(self, **kwargs):\n",
        "        super(AttentionLayer, self).__init__(**kwargs)\n",
        "\n",
        "    def build(self, input_shape):\n",
        "        assert isinstance(input_shape, list)\n",
        "        # Create a trainable weight variable for this layer.\n",
        "\n",
        "        self.W_a = self.add_weight(name='W_a',\n",
        "                                   shape=tf.TensorShape((input_shape[0][2], input_shape[0][2])),\n",
        "                                   initializer='uniform',\n",
        "                                   trainable=True)\n",
        "        self.U_a = self.add_weight(name='U_a',\n",
        "                                   shape=tf.TensorShape((input_shape[1][2], input_shape[0][2])),\n",
        "                                   initializer='uniform',\n",
        "                                   trainable=True)\n",
        "        self.V_a = self.add_weight(name='V_a',\n",
        "                                   shape=tf.TensorShape((input_shape[0][2], 1)),\n",
        "                                   initializer='uniform',\n",
        "                                   trainable=True)\n",
        "\n",
        "        super(AttentionLayer, self).build(input_shape)  # Be sure to call this at the end\n",
        "\n",
        "    def call(self, inputs, verbose=False):\n",
        "        \"\"\"\n",
        "        inputs: [encoder_output_sequence, decoder_output_sequence]\n",
        "        \"\"\"\n",
        "        assert type(inputs) == list\n",
        "        encoder_out_seq, decoder_out_seq = inputs\n",
        "        if verbose:\n",
        "            print('encoder_out_seq>', encoder_out_seq.shape)\n",
        "            print('decoder_out_seq>', decoder_out_seq.shape)\n",
        "\n",
        "        def energy_step(inputs, states):\n",
        "            \"\"\" Step function for computing energy for a single decoder state\n",
        "            inputs: (batchsize * 1 * de_in_dim)\n",
        "            states: (batchsize * 1 * de_latent_dim)\n",
        "            \"\"\"\n",
        "\n",
        "            assert_msg = \"States must be an iterable. Got {} of type {}\".format(states, type(states))\n",
        "            assert isinstance(states, list) or isinstance(states, tuple), assert_msg\n",
        "\n",
        "            \"\"\" Some parameters required for shaping tensors\"\"\"\n",
        "            en_seq_len, en_hidden = encoder_out_seq.shape[1], encoder_out_seq.shape[2]\n",
        "            de_hidden = inputs.shape[-1]\n",
        "\n",
        "            \"\"\" Computing S.Wa where S=[s0, s1, ..., si]\"\"\"\n",
        "            # <= batch size * en_seq_len * latent_dim\n",
        "            W_a_dot_s = K.dot(encoder_out_seq, self.W_a)\n",
        "\n",
        "            \"\"\" Computing hj.Ua \"\"\"\n",
        "            U_a_dot_h = K.expand_dims(K.dot(inputs, self.U_a), 1)  # <= batch_size, 1, latent_dim\n",
        "            if verbose:\n",
        "                print('Ua.h>', U_a_dot_h.shape)\n",
        "\n",
        "            \"\"\" tanh(S.Wa + hj.Ua) \"\"\"\n",
        "            # <= batch_size*en_seq_len, latent_dim\n",
        "            Ws_plus_Uh = K.tanh(W_a_dot_s + U_a_dot_h)\n",
        "            if verbose:\n",
        "                print('Ws+Uh>', Ws_plus_Uh.shape)\n",
        "\n",
        "            \"\"\" softmax(va.tanh(S.Wa + hj.Ua)) \"\"\"\n",
        "            # <= batch_size, en_seq_len\n",
        "            e_i = K.squeeze(K.dot(Ws_plus_Uh, self.V_a), axis=-1)\n",
        "            # <= batch_size, en_seq_len\n",
        "            e_i = K.softmax(e_i)\n",
        "\n",
        "            if verbose:\n",
        "                print('ei>', e_i.shape)\n",
        "\n",
        "            return e_i, [e_i]\n",
        "\n",
        "        def context_step(inputs, states):\n",
        "            \"\"\" Step function for computing ci using ei \"\"\"\n",
        "\n",
        "            assert_msg = \"States must be an iterable. Got {} of type {}\".format(states, type(states))\n",
        "            assert isinstance(states, list) or isinstance(states, tuple), assert_msg\n",
        "\n",
        "            # <= batch_size, hidden_size\n",
        "            c_i = K.sum(encoder_out_seq * K.expand_dims(inputs, -1), axis=1)\n",
        "            if verbose:\n",
        "                print('ci>', c_i.shape)\n",
        "            return c_i, [c_i]\n",
        "\n",
        "        fake_state_c = K.sum(encoder_out_seq, axis=1)\n",
        "        fake_state_e = K.sum(encoder_out_seq, axis=2)  # <= (batch_size, enc_seq_len, latent_dim\n",
        "\n",
        "        \"\"\" Computing energy outputs \"\"\"\n",
        "        # e_outputs => (batch_size, de_seq_len, en_seq_len)\n",
        "        last_out, e_outputs, _ = K.rnn(\n",
        "            energy_step, decoder_out_seq, [fake_state_e],\n",
        "        )\n",
        "\n",
        "        \"\"\" Computing context vectors \"\"\"\n",
        "        last_out, c_outputs, _ = K.rnn(\n",
        "            context_step, e_outputs, [fake_state_c],\n",
        "        )\n",
        "\n",
        "        return c_outputs, e_outputs\n",
        "\n",
        "    def compute_output_shape(self, input_shape):\n",
        "        \"\"\" Outputs produced by the layer \"\"\"\n",
        "        return [\n",
        "            tf.TensorShape((input_shape[1][0], input_shape[1][1], input_shape[1][2])),\n",
        "            tf.TensorShape((input_shape[1][0], input_shape[1][1], input_shape[0][1]))\n",
        "        ]"
      ],
      "execution_count": 31,
      "outputs": []
    },
    {
      "cell_type": "markdown",
      "metadata": {
        "id": "aJGfbYS_ab2U"
      },
      "source": [
        "\n",
        "We are building model with encoder-deocder architecture having global attention (bahadau attention model). \n",
        "- Encoder contains a **embedding** layer, followed by 3 stacked **LSTM** layers one after another.\n",
        "- Decoder also contains a **embedding** layer followed by **LSTM** layers and a **Dense** layer.\n",
        "- Global Attention layer is there which takes in encoder outputs\n"
      ]
    },
    {
      "cell_type": "code",
      "source": [
        "# embedding layer - dense representation of encodings of similar words\n",
        "# There are three parameters to the embedding layer\n",
        "# input_dim : Size of the vocabulary\n",
        "# output_dim : Length of the vector for each word\n",
        "# input_length : Maximum length of a sequence\n",
        "\n",
        "# dense layer - forward propagation\n",
        "\n",
        "# LSTM layer\n",
        "# return_sequences: Boolean. Whether to return the last output in the output sequence, or the full sequence.\n",
        "# return_state: Boolean. Whether to return the last state in addition to the output.\n",
        "# dropout: Float between 0 and 1. Fraction of the units to drop for the linear transformation of the inputs.\n",
        "# recurrent_dropout: Float between 0 and 1. Fraction of the units to drop for the linear transformation of the recurrent state."
      ],
      "metadata": {
        "id": "9USooJpWO8GR"
      },
      "execution_count": 32,
      "outputs": []
    },
    {
      "cell_type": "code",
      "metadata": {
        "id": "zXef38nBFxir",
        "execution": {
          "iopub.status.busy": "2021-10-22T13:29:30.159062Z",
          "iopub.execute_input": "2021-10-22T13:29:30.159498Z",
          "iopub.status.idle": "2021-10-22T13:29:34.660988Z",
          "shell.execute_reply.started": "2021-10-22T13:29:30.159453Z",
          "shell.execute_reply": "2021-10-22T13:29:34.659855Z"
        },
        "trusted": true,
        "colab": {
          "base_uri": "https://localhost:8080/"
        },
        "outputId": "9ab99eab-809c-48ce-fcaa-bb915e79c628"
      },
      "source": [
        "from keras import backend as K \n",
        "K.clear_session()\n",
        "\n",
        "latent_dim = 300\n",
        "embedding_dim=100\n",
        "\n",
        "# Encoder\n",
        "encoder_inputs = Input(shape=(max_text_len,))\n",
        "\n",
        "#embedding layer\n",
        "enc_emb =  Embedding(x_voc, embedding_dim,trainable=True)(encoder_inputs)\n",
        "\n",
        "#encoder lstm 1\n",
        "encoder_lstm1 = LSTM(latent_dim,return_sequences=True,return_state=True,dropout=0.4,recurrent_dropout=0.4)\n",
        "encoder_output1, state_h1, state_c1 = encoder_lstm1(enc_emb)\n",
        "\n",
        "#encoder lstm 2\n",
        "encoder_lstm2 = LSTM(latent_dim,return_sequences=True,return_state=True,dropout=0.4,recurrent_dropout=0.4)\n",
        "encoder_output2, state_h2, state_c2 = encoder_lstm2(encoder_output1)\n",
        "\n",
        "#encoder lstm 3\n",
        "encoder_lstm3=LSTM(latent_dim, return_state=True, return_sequences=True,dropout=0.4,recurrent_dropout=0.4)\n",
        "encoder_outputs, state_h, state_c= encoder_lstm3(encoder_output2)\n",
        "\n",
        "# Set up the decoder, using `encoder_states` as initial state.\n",
        "decoder_inputs = Input(shape=(None,))\n",
        "\n",
        "#embedding layer\n",
        "dec_emb_layer = Embedding(y_voc, embedding_dim,trainable=True)\n",
        "dec_emb = dec_emb_layer(decoder_inputs)\n",
        "\n",
        "# decoder LSTM\n",
        "decoder_lstm = LSTM(latent_dim, return_sequences=True, return_state=True,dropout=0.4,recurrent_dropout=0.2)\n",
        "decoder_outputs,decoder_fwd_state, decoder_back_state = decoder_lstm(dec_emb,initial_state=[state_h, state_c])\n",
        "\n",
        "# Attention layer\n",
        "attn_layer = AttentionLayer(name='attention_layer')\n",
        "attn_out, attn_states = attn_layer([encoder_outputs, decoder_outputs])\n",
        "\n",
        "# Concat attention input and decoder LSTM output\n",
        "decoder_concat_input = Concatenate(axis=-1, name='concat_layer')([decoder_outputs, attn_out])\n",
        "\n",
        "#dense layer\n",
        "decoder_dense =  TimeDistributed(Dense(y_voc, activation='softmax'))\n",
        "decoder_outputs = decoder_dense(decoder_concat_input)\n",
        "\n",
        "# Define the model \n",
        "model = Model([encoder_inputs, decoder_inputs], decoder_outputs)\n",
        "\n",
        "model.summary() "
      ],
      "execution_count": 33,
      "outputs": [
        {
          "output_type": "stream",
          "name": "stderr",
          "text": [
            "WARNING:tensorflow:Layer lstm will not use cuDNN kernels since it doesn't meet the criteria. It will use a generic GPU kernel as fallback when running on GPU.\n",
            "WARNING:tensorflow:Layer lstm_1 will not use cuDNN kernels since it doesn't meet the criteria. It will use a generic GPU kernel as fallback when running on GPU.\n",
            "WARNING:tensorflow:Layer lstm_2 will not use cuDNN kernels since it doesn't meet the criteria. It will use a generic GPU kernel as fallback when running on GPU.\n",
            "WARNING:tensorflow:Layer lstm_3 will not use cuDNN kernels since it doesn't meet the criteria. It will use a generic GPU kernel as fallback when running on GPU.\n"
          ]
        },
        {
          "output_type": "stream",
          "name": "stdout",
          "text": [
            "Model: \"model\"\n",
            "__________________________________________________________________________________________________\n",
            " Layer (type)                   Output Shape         Param #     Connected to                     \n",
            "==================================================================================================\n",
            " input_1 (InputLayer)           [(None, 30)]         0           []                               \n",
            "                                                                                                  \n",
            " embedding (Embedding)          (None, 30, 100)      805600      ['input_1[0][0]']                \n",
            "                                                                                                  \n",
            " lstm (LSTM)                    [(None, 30, 300),    481200      ['embedding[0][0]']              \n",
            "                                 (None, 300),                                                     \n",
            "                                 (None, 300)]                                                     \n",
            "                                                                                                  \n",
            " input_2 (InputLayer)           [(None, None)]       0           []                               \n",
            "                                                                                                  \n",
            " lstm_1 (LSTM)                  [(None, 30, 300),    721200      ['lstm[0][0]']                   \n",
            "                                 (None, 300),                                                     \n",
            "                                 (None, 300)]                                                     \n",
            "                                                                                                  \n",
            " embedding_1 (Embedding)        (None, None, 100)    184900      ['input_2[0][0]']                \n",
            "                                                                                                  \n",
            " lstm_2 (LSTM)                  [(None, 30, 300),    721200      ['lstm_1[0][0]']                 \n",
            "                                 (None, 300),                                                     \n",
            "                                 (None, 300)]                                                     \n",
            "                                                                                                  \n",
            " lstm_3 (LSTM)                  [(None, None, 300),  481200      ['embedding_1[0][0]',            \n",
            "                                 (None, 300),                     'lstm_2[0][1]',                 \n",
            "                                 (None, 300)]                     'lstm_2[0][2]']                 \n",
            "                                                                                                  \n",
            " attention_layer (AttentionLaye  ((None, None, 300),  180300     ['lstm_2[0][0]',                 \n",
            " r)                              (None, None, 30))                'lstm_3[0][0]']                 \n",
            "                                                                                                  \n",
            " concat_layer (Concatenate)     (None, None, 600)    0           ['lstm_3[0][0]',                 \n",
            "                                                                  'attention_layer[0][0]']        \n",
            "                                                                                                  \n",
            " time_distributed (TimeDistribu  (None, None, 1849)  1111249     ['concat_layer[0][0]']           \n",
            " ted)                                                                                             \n",
            "                                                                                                  \n",
            "==================================================================================================\n",
            "Total params: 4,686,849\n",
            "Trainable params: 4,686,849\n",
            "Non-trainable params: 0\n",
            "__________________________________________________________________________________________________\n"
          ]
        }
      ]
    },
    {
      "cell_type": "markdown",
      "metadata": {
        "id": "0ZVlfRuMUcoP"
      },
      "source": [
        "We are using sparse categorical cross-entropy as the loss function since it converts the integer sequence to a one-hot vector."
      ]
    },
    {
      "cell_type": "code",
      "metadata": {
        "id": "Lwfi1Fm8Fxiz",
        "execution": {
          "iopub.status.busy": "2021-10-22T13:29:34.663429Z",
          "iopub.execute_input": "2021-10-22T13:29:34.663753Z",
          "iopub.status.idle": "2021-10-22T13:29:34.68255Z",
          "shell.execute_reply.started": "2021-10-22T13:29:34.663708Z",
          "shell.execute_reply": "2021-10-22T13:29:34.681207Z"
        },
        "trusted": true
      },
      "source": [
        "model.compile(optimizer='adam', loss='sparse_categorical_crossentropy')"
      ],
      "execution_count": 34,
      "outputs": []
    },
    {
      "cell_type": "markdown",
      "metadata": {
        "id": "p0ykDbxfUhyw"
      },
      "source": [
        "# Training the Model\n",
        "\n",
        "We are using early stopping to monitor the validation loss metric. Our model will stop traning if the validation loss starts increasing.\n",
        "\n",
        "We’ll train the model on a batch size of 128 and validate it on the holdout set (which is 20% of our dataset):"
      ]
    },
    {
      "cell_type": "code",
      "metadata": {
        "id": "s-A3J92MUljB",
        "execution": {
          "iopub.status.busy": "2021-10-22T13:29:34.684785Z",
          "iopub.execute_input": "2021-10-22T13:29:34.685505Z",
          "iopub.status.idle": "2021-10-22T13:29:34.69207Z",
          "shell.execute_reply.started": "2021-10-22T13:29:34.685459Z",
          "shell.execute_reply": "2021-10-22T13:29:34.690811Z"
        },
        "trusted": true
      },
      "source": [
        "es = EarlyStopping(monitor='val_loss', mode='min', verbose=1,patience=2)"
      ],
      "execution_count": 35,
      "outputs": []
    },
    {
      "cell_type": "code",
      "metadata": {
        "id": "ETnPzA4OFxi3",
        "execution": {
          "iopub.status.busy": "2021-10-22T13:29:34.69403Z",
          "iopub.execute_input": "2021-10-22T13:29:34.694862Z",
          "iopub.status.idle": "2021-10-22T13:40:20.447735Z",
          "shell.execute_reply.started": "2021-10-22T13:29:34.694723Z",
          "shell.execute_reply": "2021-10-22T13:40:20.446057Z"
        },
        "trusted": true,
        "colab": {
          "base_uri": "https://localhost:8080/"
        },
        "outputId": "8fc58c35-c638-41d6-9569-a2ce61c9419d"
      },
      "source": [
        "model.compile(optimizer='adam',loss='sparse_categorical_crossentropy', metrics=['accuracy'])\n",
        "history=model.fit([x_tr,y_tr[:,:-1]], y_tr.reshape(y_tr.shape[0],y_tr.shape[1], 1)[:,1:] ,epochs=20,callbacks=[es],batch_size=128, validation_data=([x_val,y_val[:,:-1]], y_val.reshape(y_val.shape[0],y_val.shape[1], 1)[:,1:]))"
      ],
      "execution_count": 39,
      "outputs": [
        {
          "output_type": "stream",
          "name": "stdout",
          "text": [
            "Epoch 1/20\n",
            "287/287 [==============================] - 182s 451ms/step - loss: 2.6059 - accuracy: 0.5971 - val_loss: 2.4708 - val_accuracy: 0.6048\n",
            "Epoch 2/20\n",
            "287/287 [==============================] - 129s 448ms/step - loss: 2.4193 - accuracy: 0.6085 - val_loss: 2.2911 - val_accuracy: 0.6197\n",
            "Epoch 3/20\n",
            "287/287 [==============================] - 128s 445ms/step - loss: 2.2597 - accuracy: 0.6204 - val_loss: 2.1941 - val_accuracy: 0.6266\n",
            "Epoch 4/20\n",
            "287/287 [==============================] - 131s 455ms/step - loss: 2.1463 - accuracy: 0.6284 - val_loss: 2.1366 - val_accuracy: 0.6321\n",
            "Epoch 5/20\n",
            "287/287 [==============================] - 127s 441ms/step - loss: 2.0642 - accuracy: 0.6340 - val_loss: 2.0984 - val_accuracy: 0.6358\n",
            "Epoch 6/20\n",
            "287/287 [==============================] - 123s 430ms/step - loss: 1.9970 - accuracy: 0.6384 - val_loss: 2.0775 - val_accuracy: 0.6379\n",
            "Epoch 7/20\n",
            "287/287 [==============================] - 123s 427ms/step - loss: 1.9373 - accuracy: 0.6430 - val_loss: 2.0596 - val_accuracy: 0.6393\n",
            "Epoch 8/20\n",
            "287/287 [==============================] - 133s 463ms/step - loss: 1.8829 - accuracy: 0.6468 - val_loss: 2.0450 - val_accuracy: 0.6427\n",
            "Epoch 9/20\n",
            "287/287 [==============================] - 132s 461ms/step - loss: 1.8302 - accuracy: 0.6502 - val_loss: 2.0417 - val_accuracy: 0.6428\n",
            "Epoch 10/20\n",
            "287/287 [==============================] - 127s 443ms/step - loss: 1.7794 - accuracy: 0.6542 - val_loss: 2.0365 - val_accuracy: 0.6448\n",
            "Epoch 11/20\n",
            "287/287 [==============================] - 125s 437ms/step - loss: 1.7311 - accuracy: 0.6574 - val_loss: 2.0359 - val_accuracy: 0.6435\n",
            "Epoch 12/20\n",
            "287/287 [==============================] - 128s 446ms/step - loss: 1.6861 - accuracy: 0.6612 - val_loss: 2.0394 - val_accuracy: 0.6450\n",
            "Epoch 13/20\n",
            "287/287 [==============================] - 125s 436ms/step - loss: 1.6400 - accuracy: 0.6645 - val_loss: 2.0483 - val_accuracy: 0.6441\n",
            "Epoch 13: early stopping\n"
          ]
        }
      ]
    },
    {
      "cell_type": "markdown",
      "metadata": {
        "id": "0ezKYOp2UxG5"
      },
      "source": [
        "### Plot of Training and Validation loss\n",
        "\n"
      ]
    },
    {
      "cell_type": "code",
      "metadata": {
        "id": "tDTNLAURFxjE",
        "execution": {
          "iopub.status.busy": "2021-10-22T13:40:25.82791Z",
          "iopub.execute_input": "2021-10-22T13:40:25.828281Z",
          "iopub.status.idle": "2021-10-22T13:40:25.856019Z",
          "shell.execute_reply.started": "2021-10-22T13:40:25.828232Z",
          "shell.execute_reply": "2021-10-22T13:40:25.854322Z"
        },
        "trusted": true,
        "colab": {
          "base_uri": "https://localhost:8080/",
          "height": 265
        },
        "outputId": "17dec0ad-ad77-4e96-c6c4-30f1805de7c9"
      },
      "source": [
        "from matplotlib import pyplot\n",
        "pyplot.plot(history.history['loss'], label='train')\n",
        "pyplot.plot(history.history['val_loss'], label='test')\n",
        "pyplot.legend()\n",
        "pyplot.show()"
      ],
      "execution_count": 40,
      "outputs": [
        {
          "output_type": "display_data",
          "data": {
            "text/plain": [
              "<Figure size 432x288 with 1 Axes>"
            ],
            "image/png": "[encoded data removed]"
          },
          "metadata": {
            "needs_background": "light"
          }
        }
      ]
    },
    {
      "cell_type": "markdown",
      "metadata": {
        "id": "HSyx-HvpUz2o"
      },
      "source": [
        "From the plot, we can infer that validation loss has increased after epoch 15. Hence, training is stopped at epoch 15.\n",
        "\n"
      ]
    },
    {
      "cell_type": "code",
      "metadata": {
        "id": "sBX0zZnOFxjW",
        "execution": {
          "iopub.status.busy": "2021-10-22T13:40:20.452217Z",
          "iopub.status.idle": "2021-10-22T13:40:20.45285Z",
          "shell.execute_reply.started": "2021-10-22T13:40:20.452547Z",
          "shell.execute_reply": "2021-10-22T13:40:20.452593Z"
        },
        "trusted": true
      },
      "source": [
        "reverse_target_word_index=y_tokenizer.index_word\n",
        "reverse_source_word_index=x_tokenizer.index_word\n",
        "target_word_index=y_tokenizer.word_index"
      ],
      "execution_count": 41,
      "outputs": []
    },
    {
      "cell_type": "markdown",
      "metadata": {
        "id": "eM_nU_VvFxjq"
      },
      "source": [
        "# Inference\n",
        "\n",
        "Set up the inference for the encoder and decoder:"
      ]
    },
    {
      "cell_type": "code",
      "metadata": {
        "id": "9QkrNV-4Fxjt",
        "execution": {
          "iopub.status.busy": "2021-10-22T13:40:20.454755Z",
          "iopub.status.idle": "2021-10-22T13:40:20.455425Z",
          "shell.execute_reply.started": "2021-10-22T13:40:20.455048Z",
          "shell.execute_reply": "2021-10-22T13:40:20.455087Z"
        },
        "trusted": true
      },
      "source": [
        "# Encode the input sequence to get the feature vector\n",
        "encoder_model = Model(inputs=encoder_inputs,outputs=[encoder_outputs, state_h, state_c])\n",
        "\n",
        "# Decoder setup\n",
        "# Below tensors will hold the states of the previous time step\n",
        "decoder_state_input_h = Input(shape=(latent_dim,))\n",
        "decoder_state_input_c = Input(shape=(latent_dim,))\n",
        "decoder_hidden_state_input = Input(shape=(max_text_len,latent_dim))\n",
        "\n",
        "# Get the embeddings of the decoder sequence\n",
        "dec_emb2= dec_emb_layer(decoder_inputs) \n",
        "# To predict the next word in the sequence, set the initial states to the states from the previous time step\n",
        "decoder_outputs2, state_h2, state_c2 = decoder_lstm(dec_emb2, initial_state=[decoder_state_input_h, decoder_state_input_c])\n",
        "\n",
        "#attention inference\n",
        "attn_out_inf, attn_states_inf = attn_layer([decoder_hidden_state_input, decoder_outputs2])\n",
        "decoder_inf_concat = Concatenate(axis=-1, name='concat')([decoder_outputs2, attn_out_inf])\n",
        "\n",
        "# A dense softmax layer to generate prob dist. over the target vocabulary\n",
        "decoder_outputs2 = decoder_dense(decoder_inf_concat) \n",
        "\n",
        "# Final decoder model\n",
        "decoder_model = Model(\n",
        "    [decoder_inputs] + [decoder_hidden_state_input,decoder_state_input_h, decoder_state_input_c],\n",
        "    [decoder_outputs2] + [state_h2, state_c2])"
      ],
      "execution_count": 42,
      "outputs": []
    },
    {
      "cell_type": "code",
      "metadata": {
        "id": "6f6TTFnBFxj6",
        "execution": {
          "iopub.status.busy": "2021-10-22T13:40:20.457572Z",
          "iopub.status.idle": "2021-10-22T13:40:20.458482Z",
          "shell.execute_reply.started": "2021-10-22T13:40:20.458138Z",
          "shell.execute_reply": "2021-10-22T13:40:20.458188Z"
        },
        "trusted": true
      },
      "source": [
        "def decode_sequence(input_seq):\n",
        "    # Encode the input as state vectors.\n",
        "    e_out, e_h, e_c = encoder_model.predict(input_seq)\n",
        "    \n",
        "    # Generate empty target sequence of length 1.\n",
        "    target_seq = np.zeros((1,1))\n",
        "    \n",
        "    # Populate the first word of target sequence with the start word.\n",
        "    target_seq[0, 0] = target_word_index['sostok']\n",
        "\n",
        "    stop_condition = False\n",
        "    decoded_sentence = ''\n",
        "    while not stop_condition:\n",
        "      \n",
        "        output_tokens, h, c = decoder_model.predict([target_seq] + [e_out, e_h, e_c])\n",
        "\n",
        "        # Sample a token\n",
        "        sampled_token_index = np.argmax(output_tokens[0, -1, :])\n",
        "        sampled_token = reverse_target_word_index[sampled_token_index]\n",
        "        \n",
        "        if(sampled_token!='eostok'):\n",
        "            decoded_sentence += ' '+sampled_token\n",
        "\n",
        "        # Exit condition: either hit max length or find stop word.\n",
        "        if (sampled_token == 'eostok'  or len(decoded_sentence.split()) >= (max_summary_len-1)):\n",
        "            stop_condition = True\n",
        "\n",
        "        # Update the target sequence (of length 1).\n",
        "        target_seq = np.zeros((1,1))\n",
        "        target_seq[0, 0] = sampled_token_index\n",
        "\n",
        "        # Update internal states\n",
        "        e_h, e_c = h, c\n",
        "\n",
        "    return decoded_sentence"
      ],
      "execution_count": 43,
      "outputs": []
    },
    {
      "cell_type": "markdown",
      "metadata": {
        "id": "6GuDf4TPWt6_"
      },
      "source": [
        "Let us define the functions to convert an integer sequence to a word sequence for summary as well as the reviews:"
      ]
    },
    {
      "cell_type": "code",
      "metadata": {
        "id": "aAUntznIFxj9",
        "execution": {
          "iopub.status.busy": "2021-10-22T13:40:20.459952Z",
          "iopub.status.idle": "2021-10-22T13:40:20.461385Z",
          "shell.execute_reply.started": "2021-10-22T13:40:20.461002Z",
          "shell.execute_reply": "2021-10-22T13:40:20.461038Z"
        },
        "trusted": true
      },
      "source": [
        "def seq2summary(input_seq):\n",
        "    newString=''\n",
        "    for i in input_seq:\n",
        "        if((i!=0 and i!=target_word_index['sostok']) and i!=target_word_index['eostok']):\n",
        "            newString=newString+reverse_target_word_index[i]+' '\n",
        "    return newString\n",
        "\n",
        "def seq2text(input_seq):\n",
        "    newString=''\n",
        "    for i in input_seq:\n",
        "        if(i!=0):\n",
        "            newString=newString+reverse_source_word_index[i]+' '\n",
        "    return newString"
      ],
      "execution_count": 44,
      "outputs": []
    },
    {
      "cell_type": "markdown",
      "metadata": {
        "id": "9gM4ALyfWwA9"
      },
      "source": [
        "### Summaries generated by the model:"
      ]
    },
    {
      "cell_type": "code",
      "metadata": {
        "id": "BUtQmQTmFxkI",
        "execution": {
          "iopub.status.busy": "2021-10-22T13:40:20.462885Z",
          "iopub.status.idle": "2021-10-22T13:40:20.464076Z",
          "shell.execute_reply.started": "2021-10-22T13:40:20.463733Z",
          "shell.execute_reply": "2021-10-22T13:40:20.463766Z"
        },
        "trusted": true,
        "colab": {
          "base_uri": "https://localhost:8080/"
        },
        "outputId": "d4d0c46c-ed8e-41b5-d9eb-cce8ea481680"
      },
      "source": [
        "for i in range(0,100):\n",
        "    print(\"Review:\",seq2text(x_tr[i]))\n",
        "    print(\"Original summary:\",seq2summary(y_tr[i]))\n",
        "    print(\"Predicted summary:\",decode_sequence(x_tr[i].reshape(1,max_text_len)))\n",
        "    print(\"\\n\")"
      ],
      "execution_count": 45,
      "outputs": [
        {
          "output_type": "stream",
          "name": "stdout",
          "text": [
            "Review: first tried tea french restaurant ran usual black tea mint surprise tea beats tea sugar needed naturally sweetened \n",
            "Original summary: excellent tea \n",
            "1/1 [==============================] - 1s 967ms/step\n",
            "1/1 [==============================] - 1s 647ms/step\n",
            "1/1 [==============================] - 0s 19ms/step\n",
            "1/1 [==============================] - 0s 16ms/step\n",
            "Predicted summary:  great tea\n",
            "\n",
            "\n",
            "Review: ordered dogs favorite chews discontinued manufacturer love things pounds pretty strong chewers last least minutes \n",
            "Original summary: big hit with the kids \n",
            "1/1 [==============================] - 0s 49ms/step\n",
            "1/1 [==============================] - 0s 17ms/step\n",
            "1/1 [==============================] - 0s 19ms/step\n",
            "1/1 [==============================] - 0s 16ms/step\n",
            "1/1 [==============================] - 0s 19ms/step\n",
            "1/1 [==============================] - 0s 19ms/step\n",
            "Predicted summary:  my dogs love them\n",
            "\n",
            "\n",
            "Review: love coffee always perfect strength perfect temperature love never drink stale old coffee waste pot \n",
            "Original summary: from the first drop to the last \n",
            "1/1 [==============================] - 0s 53ms/step\n",
            "1/1 [==============================] - 0s 20ms/step\n",
            "1/1 [==============================] - 0s 24ms/step\n",
            "1/1 [==============================] - 0s 16ms/step\n",
            "Predicted summary:  great coffee\n",
            "\n",
            "\n",
            "Review: came handy breakfast snack well lunch snack little sweet \n",
            "Original summary: nice snack but sweet \n",
            "1/1 [==============================] - 0s 50ms/step\n",
            "1/1 [==============================] - 0s 19ms/step\n",
            "1/1 [==============================] - 0s 16ms/step\n",
            "1/1 [==============================] - 0s 16ms/step\n",
            "Predicted summary:  great snack\n",
            "\n",
            "\n",
            "Review: gave german shepard one gave diarhea discontinued giving purchase \n",
            "Original summary: will not buy again \n",
            "1/1 [==============================] - 0s 54ms/step\n",
            "1/1 [==============================] - 0s 22ms/step\n",
            "1/1 [==============================] - 0s 19ms/step\n",
            "1/1 [==============================] - 0s 19ms/step\n",
            "Predicted summary:  great product\n",
            "\n",
            "\n",
            "Review: expect dark roast exactly dark dried light brown mess even good maxwell house one pot enough come conclusion using remainder lawn fertilizer \n",
            "Original summary: terrible \n",
            "1/1 [==============================] - 0s 49ms/step\n",
            "1/1 [==============================] - 0s 16ms/step\n",
            "1/1 [==============================] - 0s 19ms/step\n",
            "1/1 [==============================] - 0s 19ms/step\n",
            "1/1 [==============================] - 0s 18ms/step\n",
            "1/1 [==============================] - 0s 19ms/step\n",
            "Predicted summary:  not worth the money\n",
            "\n",
            "\n",
            "Review: hard find flavor stores anymore honey lemon flavored used good tea good pick morning \n",
            "Original summary: love this tea \n",
            "1/1 [==============================] - 0s 56ms/step\n",
            "1/1 [==============================] - 0s 18ms/step\n",
            "1/1 [==============================] - 0s 17ms/step\n",
            "1/1 [==============================] - 0s 19ms/step\n",
            "Predicted summary:  great tea\n",
            "\n",
            "\n",
            "Review: picky son even enjoyed plain butter bitter taste keeps consistency even reheated hot water couple minutes \n",
            "Original summary: finally gf pasta that can enjoy \n",
            "1/1 [==============================] - 0s 50ms/step\n",
            "1/1 [==============================] - 0s 18ms/step\n",
            "1/1 [==============================] - 0s 20ms/step\n",
            "1/1 [==============================] - 0s 19ms/step\n",
            "1/1 [==============================] - 0s 26ms/step\n",
            "Predicted summary:  great for recipes\n",
            "\n",
            "\n",
            "Review: like kids refuse eat try pass neighbors havent really liked either things find healthier still tasty option clif kids twisted \n",
            "Original summary: would not order again \n",
            "1/1 [==============================] - 0s 48ms/step\n",
            "1/1 [==============================] - 0s 18ms/step\n",
            "1/1 [==============================] - 0s 16ms/step\n",
            "1/1 [==============================] - 0s 19ms/step\n",
            "Predicted summary:  great for\n",
            "\n",
            "\n",
            "Review: purchased peanut butter treats goldendoodle seems really enjoy drawback dry quickly keep bag sealed \n",
            "Original summary: work like \n",
            "1/1 [==============================] - 0s 50ms/step\n",
            "1/1 [==============================] - 0s 17ms/step\n",
            "1/1 [==============================] - 0s 17ms/step\n",
            "1/1 [==============================] - 0s 30ms/step\n",
            "1/1 [==============================] - 0s 17ms/step\n",
            "1/1 [==============================] - 0s 16ms/step\n",
            "Predicted summary:  my son loves these\n",
            "\n",
            "\n",
            "Review: son loves earth best baby food enjoys vegetables much fruits problem digesting food never spits \n",
            "Original summary: best baby food ever \n",
            "1/1 [==============================] - 0s 52ms/step\n",
            "1/1 [==============================] - 0s 20ms/step\n",
            "1/1 [==============================] - 0s 20ms/step\n",
            "1/1 [==============================] - 0s 17ms/step\n",
            "1/1 [==============================] - 0s 19ms/step\n",
            "Predicted summary:  great for toddlers\n",
            "\n",
            "\n",
            "Review: love cinnamon life really great deal especially sign subscribe save love \n",
            "Original summary: favorite cereal \n",
            "1/1 [==============================] - 0s 48ms/step\n",
            "1/1 [==============================] - 0s 16ms/step\n",
            "1/1 [==============================] - 0s 17ms/step\n",
            "1/1 [==============================] - 0s 19ms/step\n",
            "Predicted summary:  great deal\n",
            "\n",
            "\n",
            "Review: good lentil soup low sodium balanced flavor liked amy organics tried \n",
            "Original summary: good soup \n",
            "1/1 [==============================] - 0s 47ms/step\n",
            "1/1 [==============================] - 0s 19ms/step\n",
            "1/1 [==============================] - 0s 19ms/step\n",
            "1/1 [==============================] - 0s 17ms/step\n",
            "Predicted summary:  good cookies\n",
            "\n",
            "\n",
            "Review: product difficult find far superior bitter lemon canada dry bits lemon drink perfect summertime mixer gin vodka especially rum \n",
            "Original summary: original bitter lemon \n",
            "1/1 [==============================] - 0s 52ms/step\n",
            "1/1 [==============================] - 0s 18ms/step\n",
            "1/1 [==============================] - 0s 16ms/step\n",
            "1/1 [==============================] - 0s 17ms/step\n",
            "1/1 [==============================] - 0s 15ms/step\n",
            "Predicted summary:  so so so\n",
            "\n",
            "\n",
            "Review: cannot wait open three flavors brew really good coffee iced coffee smell fantastic \n",
            "Original summary: very fragrant \n",
            "1/1 [==============================] - 0s 47ms/step\n",
            "1/1 [==============================] - 0s 19ms/step\n",
            "1/1 [==============================] - 0s 20ms/step\n",
            "1/1 [==============================] - 0s 18ms/step\n",
            "Predicted summary:  great for\n",
            "\n",
            "\n",
            "Review: favorite martini onions local shop could get stock longer elated find amazon \n",
            "Original summary: best martini \n",
            "1/1 [==============================] - 0s 49ms/step\n",
            "1/1 [==============================] - 0s 16ms/step\n",
            "1/1 [==============================] - 0s 18ms/step\n",
            "1/1 [==============================] - 0s 16ms/step\n",
            "Predicted summary:  great product\n",
            "\n",
            "\n",
            "Review: great deal ghee however particular ghee separated arrived could ordered summer put refrigerator fine \n",
            "Original summary: great buy \n",
            "1/1 [==============================] - 0s 52ms/step\n",
            "1/1 [==============================] - 0s 15ms/step\n",
            "1/1 [==============================] - 0s 23ms/step\n",
            "1/1 [==============================] - 0s 18ms/step\n",
            "Predicted summary:  great product\n",
            "\n",
            "\n",
            "Review: chocolate treat great gift arrived right expected gave girlfriend surprise gift absolutely loved \n",
            "Original summary: great item \n",
            "1/1 [==============================] - 0s 48ms/step\n",
            "1/1 [==============================] - 0s 16ms/step\n",
            "1/1 [==============================] - 0s 20ms/step\n",
            "Predicted summary:  great\n",
            "\n",
            "\n",
            "Review: cat told buy type food anymore otherwise going eat know thinking right well indeed picky however neighbor cat seems like savory salmon feast flavor \n",
            "Original summary: my cat does not like it much \n",
            "1/1 [==============================] - 0s 47ms/step\n",
            "1/1 [==============================] - 0s 16ms/step\n",
            "1/1 [==============================] - 0s 20ms/step\n",
            "1/1 [==============================] - 0s 32ms/step\n",
            "1/1 [==============================] - 0s 32ms/step\n",
            "1/1 [==============================] - 0s 32ms/step\n",
            "1/1 [==============================] - 0s 32ms/step\n",
            "Predicted summary:  my cats love this food\n",
            "\n",
            "\n",
            "Review: lost weight eating merry desserts incredibly delicious without nasty sugar rush tarts merry makes also great difficult ship guess \n",
            "Original summary: super yum \n",
            "1/1 [==============================] - 0s 108ms/step\n",
            "1/1 [==============================] - 0s 28ms/step\n",
            "1/1 [==============================] - 0s 33ms/step\n",
            "Predicted summary:  delicious\n",
            "\n",
            "\n",
            "Review: good coffee great aroma burned pack quickly already ordered \n",
            "Original summary: delicious \n",
            "1/1 [==============================] - 0s 94ms/step\n",
            "1/1 [==============================] - 0s 27ms/step\n",
            "1/1 [==============================] - 0s 28ms/step\n",
            "1/1 [==============================] - 0s 31ms/step\n",
            "Predicted summary:  great coffee\n",
            "\n",
            "\n",
            "Review: brownies good flax seed texture real turn added little whole wheat flour splenda cocoa big improvement guests never complained \n",
            "Original summary: good healthy dessert but needs work \n",
            "1/1 [==============================] - 0s 80ms/step\n",
            "1/1 [==============================] - 0s 84ms/step\n",
            "1/1 [==============================] - 0s 68ms/step\n",
            "1/1 [==============================] - 0s 90ms/step\n",
            "1/1 [==============================] - 0s 57ms/step\n",
            "Predicted summary:  great tasting rice\n",
            "\n",
            "\n",
            "Review: love soup healthy full bad ingredients like chicken noodle better rice pretty good \n",
            "Original summary: love wolfgang puck soups \n",
            "1/1 [==============================] - 0s 51ms/step\n",
            "1/1 [==============================] - 0s 17ms/step\n",
            "1/1 [==============================] - 0s 21ms/step\n",
            "1/1 [==============================] - 0s 17ms/step\n",
            "Predicted summary:  great cookies\n",
            "\n",
            "\n",
            "Review: great find product missing local grocery store wish could get sugar free form \n",
            "Original summary: great just wish it were sugar free \n",
            "1/1 [==============================] - 0s 58ms/step\n",
            "1/1 [==============================] - 0s 19ms/step\n",
            "1/1 [==============================] - 0s 17ms/step\n",
            "Predicted summary:  great\n",
            "\n",
            "\n",
            "Review: got tablets try see really worked suprise made lemons taste amazing items list taste much better still trying \n",
            "Original summary: are amazing \n",
            "1/1 [==============================] - 0s 58ms/step\n",
            "1/1 [==============================] - 0s 16ms/step\n",
            "1/1 [==============================] - 0s 17ms/step\n",
            "1/1 [==============================] - 0s 19ms/step\n",
            "1/1 [==============================] - 0s 16ms/step\n",
            "Predicted summary:  not what expected\n",
            "\n",
            "\n",
            "Review: forget eat nitrates nitrates terrible ingredient alone makes zero star give one zero stars option \n",
            "Original summary: loaded with \n",
            "1/1 [==============================] - 0s 49ms/step\n",
            "1/1 [==============================] - 0s 16ms/step\n",
            "1/1 [==============================] - 0s 18ms/step\n",
            "1/1 [==============================] - 0s 21ms/step\n",
            "Predicted summary:  not bad\n",
            "\n",
            "\n",
            "Review: many pieces package counted small pieces way much salt worth money \n",
            "Original summary: too much salt small package \n",
            "1/1 [==============================] - 0s 50ms/step\n",
            "1/1 [==============================] - 0s 19ms/step\n",
            "1/1 [==============================] - 0s 20ms/step\n",
            "1/1 [==============================] - 0s 18ms/step\n",
            "Predicted summary:  not bad\n",
            "\n",
            "\n",
            "Review: purchase tea impressed much try teas yerba mate one different taste others even says organic think lb price little expensive bought lb half price \n",
            "Original summary: not so impressed \n",
            "1/1 [==============================] - 0s 49ms/step\n",
            "1/1 [==============================] - 0s 21ms/step\n",
            "1/1 [==============================] - 0s 20ms/step\n",
            "Predicted summary:  tea\n",
            "\n",
            "\n",
            "Review: really bummed find chocolates melted got daughter bday seems sold online way keep safe \n",
            "Original summary: melted \n",
            "1/1 [==============================] - 0s 53ms/step\n",
            "1/1 [==============================] - 0s 20ms/step\n",
            "1/1 [==============================] - 0s 18ms/step\n",
            "1/1 [==============================] - 0s 18ms/step\n",
            "1/1 [==============================] - 0s 19ms/step\n",
            "Predicted summary:  not what expected\n",
            "\n",
            "\n",
            "Review: distinct flavor good bought entire case since much cheaper natural food stores use make sorts grains well soup course \n",
            "Original summary: tastes great \n",
            "1/1 [==============================] - 0s 55ms/step\n",
            "1/1 [==============================] - 0s 16ms/step\n",
            "1/1 [==============================] - 0s 17ms/step\n",
            "Predicted summary:  great\n",
            "\n",
            "\n",
            "Review: chili great want flavorful chili yet feel mood lots heat roasted red peppers tomatoes taste good comes close get homemade coming canned product says lot \n",
            "Original summary: mild yet very flavorful \n",
            "1/1 [==============================] - 0s 57ms/step\n",
            "1/1 [==============================] - 0s 20ms/step\n",
            "1/1 [==============================] - 0s 16ms/step\n",
            "1/1 [==============================] - 0s 18ms/step\n",
            "Predicted summary:  great chili\n",
            "\n",
            "\n",
            "Review: tomato paste tube really easy use nice need small portion \n",
            "Original summary: very convenient \n",
            "1/1 [==============================] - 0s 51ms/step\n",
            "1/1 [==============================] - 0s 19ms/step\n",
            "1/1 [==============================] - 0s 17ms/step\n",
            "1/1 [==============================] - 0s 18ms/step\n",
            "Predicted summary:  great product\n",
            "\n",
            "\n",
            "Review: ordered coffee many times always great time butter toffee tastes like watered junk exchange \n",
            "Original summary: coffee \n",
            "1/1 [==============================] - 0s 47ms/step\n",
            "1/1 [==============================] - 0s 23ms/step\n",
            "1/1 [==============================] - 0s 16ms/step\n",
            "1/1 [==============================] - 0s 19ms/step\n",
            "Predicted summary:  great coffee\n",
            "\n",
            "\n",
            "Review: enjoy saffron lot find exotic \n",
            "Original summary: enjoy the fine quality of saffron \n",
            "1/1 [==============================] - 0s 49ms/step\n",
            "1/1 [==============================] - 0s 18ms/step\n",
            "1/1 [==============================] - 0s 19ms/step\n",
            "Predicted summary:  tea\n",
            "\n",
            "\n",
            "Review: hazelnut crunch chocolate big chunks salt seems makes crunchy hazelnuts ick package makes reference salt \n",
            "Original summary: ick big of salt \n",
            "1/1 [==============================] - 0s 47ms/step\n",
            "1/1 [==============================] - 0s 16ms/step\n",
            "1/1 [==============================] - 0s 16ms/step\n",
            "1/1 [==============================] - 0s 18ms/step\n",
            "1/1 [==============================] - 0s 19ms/step\n",
            "1/1 [==============================] - 0s 17ms/step\n",
            "Predicted summary:  good but not great\n",
            "\n",
            "\n",
            "Review: great cookies overly sweet american cookies hint citrus could ask cookies box decadent treat \n",
            "Original summary: yummy \n",
            "1/1 [==============================] - 0s 47ms/step\n",
            "1/1 [==============================] - 0s 28ms/step\n",
            "1/1 [==============================] - 0s 20ms/step\n",
            "Predicted summary:  cookies\n",
            "\n",
            "\n",
            "Review: nice know brand always count quality \n",
            "Original summary: umm good \n",
            "1/1 [==============================] - 0s 52ms/step\n",
            "1/1 [==============================] - 0s 16ms/step\n",
            "1/1 [==============================] - 0s 21ms/step\n",
            "1/1 [==============================] - 0s 18ms/step\n",
            "Predicted summary:  great product\n",
            "\n",
            "\n",
            "Review: using tea month absolutely love taste may favorite well red teas drinking republic tea skin looks much better could find something natural would clean lol \n",
            "Original summary: get review \n",
            "1/1 [==============================] - 0s 50ms/step\n",
            "1/1 [==============================] - 0s 16ms/step\n",
            "1/1 [==============================] - 0s 18ms/step\n",
            "1/1 [==============================] - 0s 20ms/step\n",
            "Predicted summary:  great tea\n",
            "\n",
            "\n",
            "Review: use cooking protein shakes flavor great love calories little mixing water yield serving amount fr ex cup mixed water actually yields cup aware \n",
            "Original summary: good but not clear \n",
            "1/1 [==============================] - 0s 47ms/step\n",
            "1/1 [==============================] - 0s 16ms/step\n",
            "1/1 [==============================] - 0s 16ms/step\n",
            "1/1 [==============================] - 0s 17ms/step\n",
            "1/1 [==============================] - 0s 17ms/step\n",
            "1/1 [==============================] - 0s 22ms/step\n",
            "Predicted summary:  not worth the money\n",
            "\n",
            "\n",
            "Review: fed zuke treats awhile last two bags gave dogs horrible upset stomach bought massive bag throw away unfortunately buying \n",
            "Original summary: made my dog sick \n",
            "1/1 [==============================] - 0s 53ms/step\n",
            "1/1 [==============================] - 0s 17ms/step\n",
            "1/1 [==============================] - 0s 18ms/step\n",
            "1/1 [==============================] - 0s 17ms/step\n",
            "Predicted summary:  dog treats\n",
            "\n",
            "\n",
            "Review: sooo bland excited try sadly disappointed pretty much flavorless nothing like flavor hard chew much sugar tasteless chunk impressed definitely repurchasing \n",
            "Original summary: not sure why this is flavor \n",
            "1/1 [==============================] - 0s 50ms/step\n",
            "1/1 [==============================] - 0s 18ms/step\n",
            "1/1 [==============================] - 0s 17ms/step\n",
            "Predicted summary:  yuck\n",
            "\n",
            "\n",
            "Review: yes cans arrive dented get pumpkin hard find stores fall like extend pumpkin usage seasons good buy definitely good quality feeding dogs making bread pumpkin fudge yum \n",
            "Original summary: most of cans are dented \n",
            "1/1 [==============================] - 0s 49ms/step\n",
            "1/1 [==============================] - 0s 18ms/step\n",
            "1/1 [==============================] - 0s 19ms/step\n",
            "1/1 [==============================] - 0s 17ms/step\n",
            "Predicted summary:  dented cans\n",
            "\n",
            "\n",
            "Review: actually gift daughter opinion absolutely best canned soup planet lobster bisque rated scottish smoked salmon \n",
            "Original summary: canned soups \n",
            "1/1 [==============================] - 0s 48ms/step\n",
            "1/1 [==============================] - 0s 18ms/step\n",
            "1/1 [==============================] - 0s 18ms/step\n",
            "1/1 [==============================] - 0s 19ms/step\n",
            "Predicted summary:  great seasoning\n",
            "\n",
            "\n",
            "Review: could satisfied tea never problem tea perfect strength whether make drink hot add ice iced tea \n",
            "Original summary: this product is great \n",
            "1/1 [==============================] - 0s 60ms/step\n",
            "1/1 [==============================] - 0s 21ms/step\n",
            "1/1 [==============================] - 0s 21ms/step\n",
            "1/1 [==============================] - 0s 18ms/step\n",
            "Predicted summary:  great tea\n",
            "\n",
            "\n",
            "Review: liked much ordered ordering \n",
            "Original summary: quick yummy soup \n",
            "1/1 [==============================] - 0s 48ms/step\n",
            "1/1 [==============================] - 0s 20ms/step\n",
            "1/1 [==============================] - 0s 19ms/step\n",
            "1/1 [==============================] - 0s 17ms/step\n",
            "Predicted summary:  great product\n",
            "\n",
            "\n",
            "Review: bought pregnant hard time calcium supplements calcium added fair amount substance much easier digest taste fabulous six year old cannot tell difference normal candy bar find taste fair \n",
            "Original summary: good source of \n",
            "1/1 [==============================] - 0s 55ms/step\n",
            "1/1 [==============================] - 0s 20ms/step\n",
            "1/1 [==============================] - 0s 18ms/step\n",
            "1/1 [==============================] - 0s 21ms/step\n",
            "1/1 [==============================] - 0s 17ms/step\n",
            "Predicted summary:  great for travel\n",
            "\n",
            "\n",
            "Review: different opinion first reviewer think triple berry granola simply great tasty full whole grain goodness may need berries though sometimes get bag berries try see like way full fiber good \n",
            "Original summary: yum berry granola \n",
            "1/1 [==============================] - 0s 46ms/step\n",
            "1/1 [==============================] - 0s 17ms/step\n",
            "1/1 [==============================] - 0s 18ms/step\n",
            "1/1 [==============================] - 0s 17ms/step\n",
            "Predicted summary:  great snack\n",
            "\n",
            "\n",
            "Review: kids love bars eating since age bars moist flavorful bars also travel well always take us family short long know kids eat \n",
            "Original summary: kids love these bars \n",
            "1/1 [==============================] - 0s 48ms/step\n",
            "1/1 [==============================] - 0s 18ms/step\n",
            "1/1 [==============================] - 0s 18ms/step\n",
            "1/1 [==============================] - 0s 19ms/step\n",
            "Predicted summary:  great snack\n",
            "\n",
            "\n",
            "Review: different types ramen best thus far highly recommend enjoys ramen spicy foods \n",
            "Original summary: best ramen \n",
            "1/1 [==============================] - 0s 48ms/step\n",
            "1/1 [==============================] - 0s 20ms/step\n",
            "1/1 [==============================] - 0s 19ms/step\n",
            "1/1 [==============================] - 0s 22ms/step\n",
            "Predicted summary:  great seasoning\n",
            "\n",
            "\n",
            "Review: special good cereal problem order cost cereal twice price grocery store \n",
            "Original summary: special \n",
            "1/1 [==============================] - 0s 49ms/step\n",
            "1/1 [==============================] - 0s 17ms/step\n",
            "1/1 [==============================] - 0s 16ms/step\n",
            "1/1 [==============================] - 0s 16ms/step\n",
            "Predicted summary:  great cereal\n",
            "\n",
            "\n",
            "Review: love coffee right amount flavor strong light several cups day enjoy everyone \n",
            "Original summary: green mountain coffee breakfast blend \n",
            "1/1 [==============================] - 0s 47ms/step\n",
            "1/1 [==============================] - 0s 16ms/step\n",
            "1/1 [==============================] - 0s 23ms/step\n",
            "1/1 [==============================] - 0s 19ms/step\n",
            "Predicted summary:  great coffee\n",
            "\n",
            "\n",
            "Review: far worst coffee creamer ever used store decided try new creamer picked one never international delight gave coffee horrible taste use least coffee tasted kind ok \n",
            "Original summary: yuck \n",
            "1/1 [==============================] - 0s 51ms/step\n",
            "1/1 [==============================] - 0s 19ms/step\n",
            "1/1 [==============================] - 0s 16ms/step\n",
            "1/1 [==============================] - 0s 16ms/step\n",
            "1/1 [==============================] - 0s 20ms/step\n",
            "Predicted summary:  not so good\n",
            "\n",
            "\n",
            "Review: kellogs rice krispies treats crispy marshmallow squares cheaper costco stock stock varies costco always product want inventory stock varies always product last week last month one disappointing store \n",
            "Original summary: cheaper at costco \n",
            "1/1 [==============================] - 0s 50ms/step\n",
            "1/1 [==============================] - 0s 17ms/step\n",
            "1/1 [==============================] - 0s 21ms/step\n",
            "1/1 [==============================] - 0s 16ms/step\n",
            "Predicted summary:  great snack\n",
            "\n",
            "\n",
            "Review: dogs prefer one many ones tried small bites perfect size bought one many times pretty pleased consistency \n",
            "Original summary: great dog food \n",
            "1/1 [==============================] - 0s 56ms/step\n",
            "1/1 [==============================] - 0s 16ms/step\n",
            "1/1 [==============================] - 0s 17ms/step\n",
            "1/1 [==============================] - 0s 22ms/step\n",
            "1/1 [==============================] - 0s 16ms/step\n",
            "1/1 [==============================] - 0s 20ms/step\n",
            "Predicted summary:  my dogs love these\n",
            "\n",
            "\n",
            "Review: absolutely love chips well spiced without hot definitely winner \n",
            "Original summary: six star chips yummy yummy \n",
            "1/1 [==============================] - 0s 47ms/step\n",
            "1/1 [==============================] - 0s 17ms/step\n",
            "1/1 [==============================] - 0s 20ms/step\n",
            "1/1 [==============================] - 0s 18ms/step\n",
            "Predicted summary:  great chips\n",
            "\n",
            "\n",
            "Review: pretty good selection teas lemon drink provided something someone coffee drinker \n",
            "Original summary: timothy coffee \n",
            "1/1 [==============================] - 0s 47ms/step\n",
            "1/1 [==============================] - 0s 17ms/step\n",
            "1/1 [==============================] - 0s 16ms/step\n",
            "1/1 [==============================] - 0s 24ms/step\n",
            "1/1 [==============================] - 0s 16ms/step\n",
            "Predicted summary:  not the same\n",
            "\n",
            "\n",
            "Review: like smaller packaging organic chewy flavor go bad days time market excellent go snack excellent health benefits \n",
            "Original summary: chewy goodness \n",
            "1/1 [==============================] - 0s 56ms/step\n",
            "1/1 [==============================] - 0s 21ms/step\n",
            "1/1 [==============================] - 0s 18ms/step\n",
            "Predicted summary:  great\n",
            "\n",
            "\n",
            "Review: watching dog itchy skin years hundreds dollars useless vet bills finally figured dog food allergies go figure happy hips makes baby happy turn makes happy \n",
            "Original summary: the best dog food ever \n",
            "1/1 [==============================] - 0s 53ms/step\n",
            "1/1 [==============================] - 0s 17ms/step\n",
            "1/1 [==============================] - 0s 19ms/step\n",
            "1/1 [==============================] - 0s 18ms/step\n",
            "1/1 [==============================] - 0s 17ms/step\n",
            "1/1 [==============================] - 0s 16ms/step\n",
            "1/1 [==============================] - 0s 19ms/step\n",
            "Predicted summary:  my dog loves this food\n",
            "\n",
            "\n",
            "Review: love products difficult find flour area ordering amazon great option quality products making biscotti italian baked goods come perfect \n",
            "Original summary: great for baking \n",
            "1/1 [==============================] - 0s 50ms/step\n",
            "1/1 [==============================] - 0s 17ms/step\n",
            "1/1 [==============================] - 0s 18ms/step\n",
            "1/1 [==============================] - 0s 19ms/step\n",
            "Predicted summary:  great product\n",
            "\n",
            "\n",
            "Review: best hot chocolate far easily available area love mocha double chocolate \n",
            "Original summary: simply the \n",
            "1/1 [==============================] - 0s 47ms/step\n",
            "1/1 [==============================] - 0s 21ms/step\n",
            "1/1 [==============================] - 0s 18ms/step\n",
            "1/1 [==============================] - 0s 19ms/step\n",
            "Predicted summary:  hot cocoa\n",
            "\n",
            "\n",
            "Review: nice dry stout style beer pretty damn good plain bit better little dissolved licorice candy steeped grains give serious body opinion course mileage may vary \n",
            "Original summary: good stuff \n",
            "1/1 [==============================] - 0s 47ms/step\n",
            "1/1 [==============================] - 0s 19ms/step\n",
            "1/1 [==============================] - 0s 18ms/step\n",
            "1/1 [==============================] - 0s 18ms/step\n",
            "1/1 [==============================] - 0s 19ms/step\n",
            "Predicted summary:  love this stuff\n",
            "\n",
            "\n",
            "Review: cost much good price friday night old worth \n",
            "Original summary: the cherries \n",
            "1/1 [==============================] - 0s 48ms/step\n",
            "1/1 [==============================] - 0s 18ms/step\n",
            "1/1 [==============================] - 0s 17ms/step\n",
            "1/1 [==============================] - 0s 17ms/step\n",
            "Predicted summary:  good deal\n",
            "\n",
            "\n",
            "Review: best coconut milk ever bought coconut butter need everyday dented cans extremely delicious everything \n",
            "Original summary: coconut milk \n",
            "1/1 [==============================] - 0s 51ms/step\n",
            "1/1 [==============================] - 0s 17ms/step\n",
            "1/1 [==============================] - 0s 19ms/step\n",
            "1/1 [==============================] - 0s 26ms/step\n",
            "Predicted summary:  great oil\n",
            "\n",
            "\n",
            "Review: love cinnamon candy energy drink tastes awesome one hell kick great mixed drinks well \n",
            "Original summary: exactly like \n",
            "1/1 [==============================] - 0s 49ms/step\n",
            "1/1 [==============================] - 0s 18ms/step\n",
            "1/1 [==============================] - 0s 18ms/step\n",
            "1/1 [==============================] - 0s 19ms/step\n",
            "Predicted summary:  great product\n",
            "\n",
            "\n",
            "Review: dog itching problems point take vet vet thought food allergies gave us sample dog food loved bought sure enough stopped constant chewing almost overnight problems eating \n",
            "Original summary: my dog loves it \n",
            "1/1 [==============================] - 0s 55ms/step\n",
            "1/1 [==============================] - 0s 19ms/step\n",
            "1/1 [==============================] - 0s 24ms/step\n",
            "1/1 [==============================] - 0s 22ms/step\n",
            "1/1 [==============================] - 0s 23ms/step\n",
            "1/1 [==============================] - 0s 17ms/step\n",
            "Predicted summary:  my dog loves these\n",
            "\n",
            "\n",
            "Review: best dressing stuffing mix market made every thanksgiving christmas past year \n",
            "Original summary: yum \n",
            "1/1 [==============================] - 0s 50ms/step\n",
            "1/1 [==============================] - 0s 18ms/step\n",
            "1/1 [==============================] - 0s 16ms/step\n",
            "Predicted summary:  delicious\n",
            "\n",
            "\n",
            "Review: daughter allergic wheat refuses follow diet bought make waffles freeze every days usually get waffles box excellent \n",
            "Original summary: great taste \n",
            "1/1 [==============================] - 0s 50ms/step\n",
            "1/1 [==============================] - 0s 23ms/step\n",
            "1/1 [==============================] - 0s 17ms/step\n",
            "1/1 [==============================] - 0s 17ms/step\n",
            "Predicted summary:  great pancakes\n",
            "\n",
            "\n",
            "Review: favorite tea ever great cold hot without sweetener cream far best tea ever \n",
            "Original summary: my favorite tea \n",
            "1/1 [==============================] - 0s 50ms/step\n",
            "1/1 [==============================] - 0s 19ms/step\n",
            "1/1 [==============================] - 0s 19ms/step\n",
            "1/1 [==============================] - 0s 19ms/step\n",
            "1/1 [==============================] - 0s 19ms/step\n",
            "Predicted summary:  best tea ever\n",
            "\n",
            "\n",
            "Review: dairy allergy severe lactose intolerance feel left chocolate bars help upset stomach also aid keep weight delicious \n",
            "Original summary: enjoy life dark bars \n",
            "1/1 [==============================] - 0s 57ms/step\n",
            "1/1 [==============================] - 0s 17ms/step\n",
            "1/1 [==============================] - 0s 20ms/step\n",
            "1/1 [==============================] - 0s 18ms/step\n",
            "Predicted summary:  great snack\n",
            "\n",
            "\n",
            "Review: tasty love measured packaging allows regulate much eat glad bought \n",
            "Original summary: tasty and like packaging \n",
            "1/1 [==============================] - 0s 55ms/step\n",
            "1/1 [==============================] - 0s 19ms/step\n",
            "1/1 [==============================] - 0s 18ms/step\n",
            "Predicted summary:  tasty\n",
            "\n",
            "\n",
            "Review: white cheddar get overnight shipped office feeling especially arrive broken still equally tasty like take broken ones put salad like cheezy little flakes \n",
            "Original summary: love in cheesy cracker \n",
            "1/1 [==============================] - 0s 60ms/step\n",
            "1/1 [==============================] - 0s 20ms/step\n",
            "1/1 [==============================] - 0s 18ms/step\n",
            "1/1 [==============================] - 0s 22ms/step\n",
            "1/1 [==============================] - 0s 20ms/step\n",
            "Predicted summary:  not so good\n",
            "\n",
            "\n",
            "Review: take less time problem crushed pearls often find standard packages less delicate easy make tasty end would suggest buying minute kind \n",
            "Original summary: and easier \n",
            "1/1 [==============================] - 0s 48ms/step\n",
            "1/1 [==============================] - 0s 18ms/step\n",
            "1/1 [==============================] - 0s 17ms/step\n",
            "1/1 [==============================] - 0s 19ms/step\n",
            "Predicted summary:  great product\n",
            "\n",
            "\n",
            "Review: cookies tasty half broken packaged well opened boxes pulled tray cookies mostly pieces still boxes open see yet probably would buy seller \n",
            "Original summary: tasty but too many broken cookies \n",
            "1/1 [==============================] - 0s 50ms/step\n",
            "1/1 [==============================] - 0s 17ms/step\n",
            "1/1 [==============================] - 0s 19ms/step\n",
            "1/1 [==============================] - 0s 19ms/step\n",
            "1/1 [==============================] - 0s 19ms/step\n",
            "Predicted summary:  not so good\n",
            "\n",
            "\n",
            "Review: pleased smell product smelled like actual food crumbled one piece added warm water cats happy resulting gravy interested chunks product keep experimenting interest pleased cats picky \n",
            "Original summary: mixed \n",
            "1/1 [==============================] - 0s 50ms/step\n",
            "1/1 [==============================] - 0s 19ms/step\n",
            "1/1 [==============================] - 0s 17ms/step\n",
            "1/1 [==============================] - 0s 18ms/step\n",
            "1/1 [==============================] - 0s 21ms/step\n",
            "Predicted summary:  cats like it\n",
            "\n",
            "\n",
            "Review: would often earl grey tea lived japan usa cannot found anywhere however really satisfied rishi earl grey tastes good price half highly recommended \n",
            "Original summary: very good \n",
            "1/1 [==============================] - 0s 51ms/step\n",
            "1/1 [==============================] - 0s 16ms/step\n",
            "1/1 [==============================] - 0s 19ms/step\n",
            "1/1 [==============================] - 0s 20ms/step\n",
            "Predicted summary:  great tea\n",
            "\n",
            "\n",
            "Review: kitchen makes beautiful bath salts gifts well many aware different salts impart different flavors foods using table salt requires good grinding mill much course use \n",
            "Original summary: so many uses \n",
            "1/1 [==============================] - 0s 57ms/step\n",
            "1/1 [==============================] - 0s 21ms/step\n",
            "1/1 [==============================] - 0s 18ms/step\n",
            "1/1 [==============================] - 0s 22ms/step\n",
            "Predicted summary:  great transaction\n",
            "\n",
            "\n",
            "Review: fine tea strong weak love hot tea well iced tea love berry aroma delicious taste whole family likes one \n",
            "Original summary: delicious \n",
            "1/1 [==============================] - 0s 56ms/step\n",
            "1/1 [==============================] - 0s 21ms/step\n",
            "1/1 [==============================] - 0s 21ms/step\n",
            "Predicted summary:  tea\n",
            "\n",
            "\n",
            "Review: two french roast coffees purchased amazon well bold organic kind equally pleasing impression others family prefer one \n",
            "Original summary: another good dark coffee \n",
            "1/1 [==============================] - 0s 53ms/step\n",
            "1/1 [==============================] - 0s 20ms/step\n",
            "1/1 [==============================] - 0s 19ms/step\n",
            "1/1 [==============================] - 0s 16ms/step\n",
            "Predicted summary:  great coffee\n",
            "\n",
            "\n",
            "Review: chocolate flavor shines bittersweet chocolate right size melting easily good chocolate worth price \n",
            "Original summary: good chocolate \n",
            "1/1 [==============================] - 0s 53ms/step\n",
            "1/1 [==============================] - 0s 16ms/step\n",
            "1/1 [==============================] - 0s 19ms/step\n",
            "1/1 [==============================] - 0s 19ms/step\n",
            "1/1 [==============================] - 0s 18ms/step\n",
            "1/1 [==============================] - 0s 18ms/step\n",
            "Predicted summary:  not worth the money\n",
            "\n",
            "\n",
            "Review: made cake frosted combination pillsbury already mixed frosting frosting cake absolutely delicious could tell mix highly recommend particular cake \n",
            "Original summary: best cake mix \n",
            "1/1 [==============================] - 0s 51ms/step\n",
            "1/1 [==============================] - 0s 23ms/step\n",
            "1/1 [==============================] - 0s 20ms/step\n",
            "Predicted summary:  delicious\n",
            "\n",
            "\n",
            "Review: second time ordered tails elk rack snack pug even though small lbs loves things holds paws goes town pieces come stain carpet keeps busy long time \n",
            "Original summary: just what we wanted \n",
            "1/1 [==============================] - 0s 74ms/step\n",
            "1/1 [==============================] - 0s 18ms/step\n",
            "1/1 [==============================] - 0s 22ms/step\n",
            "1/1 [==============================] - 0s 25ms/step\n",
            "Predicted summary:  great product\n",
            "\n",
            "\n",
            "Review: fan banana flavored anything may old news soft chewy delicious left surprisingly satisfied indulging cereal bar fake flavor yucky taste found even coworker loved well small portion willing share \n",
            "Original summary: surprisingly satisfied \n",
            "1/1 [==============================] - 0s 58ms/step\n",
            "1/1 [==============================] - 0s 17ms/step\n",
            "1/1 [==============================] - 0s 19ms/step\n",
            "1/1 [==============================] - 0s 17ms/step\n",
            "1/1 [==============================] - 0s 19ms/step\n",
            "1/1 [==============================] - 0s 17ms/step\n",
            "1/1 [==============================] - 0s 16ms/step\n",
            "Predicted summary:  tasty but not the best\n",
            "\n",
            "\n",
            "Review: cannot find bulk live use much best way buy buying boxes little packets economical best \n",
            "Original summary: great \n",
            "1/1 [==============================] - 0s 51ms/step\n",
            "1/1 [==============================] - 0s 18ms/step\n",
            "1/1 [==============================] - 0s 17ms/step\n",
            "1/1 [==============================] - 0s 17ms/step\n",
            "Predicted summary:  great product\n",
            "\n",
            "\n",
            "Review: try vanilla tootsie rolls regular chocolate ones good best ever \n",
            "Original summary: vanilla tootsie rolls \n",
            "1/1 [==============================] - 0s 62ms/step\n",
            "1/1 [==============================] - 0s 18ms/step\n",
            "1/1 [==============================] - 0s 19ms/step\n",
            "Predicted summary:  great\n",
            "\n",
            "\n",
            "Review: happy bought set rather individual items great deal guys cant wait great specials \n",
            "Original summary: super savings \n",
            "1/1 [==============================] - 0s 50ms/step\n",
            "1/1 [==============================] - 0s 17ms/step\n",
            "1/1 [==============================] - 0s 18ms/step\n",
            "1/1 [==============================] - 0s 20ms/step\n",
            "Predicted summary:  great product\n",
            "\n",
            "\n",
            "Review: family loves granola whether sprinkling yogurt eating bowl milk great taste ounce bags excellent value \n",
            "Original summary: great product \n",
            "1/1 [==============================] - 0s 50ms/step\n",
            "1/1 [==============================] - 0s 19ms/step\n",
            "1/1 [==============================] - 0s 19ms/step\n",
            "1/1 [==============================] - 0s 18ms/step\n",
            "Predicted summary:  great for\n",
            "\n",
            "\n",
            "Review: bought keep bathroom use skin scalp knowing would warm use prepared smell worse toasted coconut smells burnt totally unacceptable matter benefit able bring even put skin hoping amazon take back \n",
            "Original summary: worst oil yet \n",
            "1/1 [==============================] - 0s 55ms/step\n",
            "1/1 [==============================] - 0s 20ms/step\n",
            "1/1 [==============================] - 0s 20ms/step\n",
            "1/1 [==============================] - 0s 18ms/step\n",
            "1/1 [==============================] - 0s 18ms/step\n",
            "1/1 [==============================] - 0s 19ms/step\n",
            "Predicted summary:  not worth the money\n",
            "\n",
            "\n",
            "Review: order son favorite cookie thank product god bless \n",
            "Original summary: my son favorite cookie \n",
            "1/1 [==============================] - 0s 48ms/step\n",
            "1/1 [==============================] - 0s 19ms/step\n",
            "1/1 [==============================] - 0s 17ms/step\n",
            "1/1 [==============================] - 0s 17ms/step\n",
            "Predicted summary:  great cookies\n",
            "\n",
            "\n",
            "Review: think original golean remains best breakfast choice anyone vegetarian vegan diet concerned obtain sufficient protein particularly beans also sufficient chewiness \n",
            "Original summary: best choice \n",
            "1/1 [==============================] - 0s 47ms/step\n",
            "1/1 [==============================] - 0s 18ms/step\n",
            "1/1 [==============================] - 0s 20ms/step\n",
            "1/1 [==============================] - 0s 19ms/step\n",
            "Predicted summary:  great coffee\n",
            "\n",
            "\n",
            "Review: using products past years good see main stream companies getting product works pancakes waffles come beautifully \n",
            "Original summary: name \n",
            "1/1 [==============================] - 0s 56ms/step\n",
            "1/1 [==============================] - 0s 18ms/step\n",
            "1/1 [==============================] - 0s 23ms/step\n",
            "1/1 [==============================] - 0s 20ms/step\n",
            "Predicted summary:  good basic\n",
            "\n",
            "\n",
            "Review: tastes great amazon shipped jars bubble wrap could hear mail person delivered box fortunately nothing broken \n",
            "Original summary: but not \n",
            "1/1 [==============================] - 0s 59ms/step\n",
            "1/1 [==============================] - 0s 23ms/step\n",
            "1/1 [==============================] - 0s 26ms/step\n",
            "1/1 [==============================] - 0s 20ms/step\n",
            "1/1 [==============================] - 0s 24ms/step\n",
            "Predicted summary:  not what expected\n",
            "\n",
            "\n",
            "Review: freshest aromatic saffron every even ups driver caught sniffing box tin cannot contain wonderful scent tastes good smells \n",
            "Original summary: highly recommended for saffron lovers \n",
            "1/1 [==============================] - 0s 52ms/step\n",
            "1/1 [==============================] - 0s 19ms/step\n",
            "1/1 [==============================] - 0s 20ms/step\n",
            "Predicted summary:  wonderful\n",
            "\n",
            "\n",
            "Review: perfect dieting taste outstanding price right multiple purchase customer planning purchases soon gotta try \n",
            "Original summary: great purchase \n",
            "1/1 [==============================] - 0s 57ms/step\n",
            "1/1 [==============================] - 0s 20ms/step\n",
            "1/1 [==============================] - 0s 20ms/step\n",
            "1/1 [==============================] - 0s 19ms/step\n",
            "Predicted summary:  great for\n",
            "\n",
            "\n",
            "Review: big candy family however bought first bag switzerland loaded several bags trip home great mix sweet \n",
            "Original summary: family favorite \n",
            "1/1 [==============================] - 0s 51ms/step\n",
            "1/1 [==============================] - 0s 27ms/step\n",
            "1/1 [==============================] - 0s 19ms/step\n",
            "1/1 [==============================] - 0s 21ms/step\n",
            "Predicted summary:  great candy\n",
            "\n",
            "\n",
            "Review: thrilled able find beef noodles seen particular flavor stores around long time \n",
            "Original summary: great stuff \n",
            "1/1 [==============================] - 0s 52ms/step\n",
            "1/1 [==============================] - 0s 19ms/step\n",
            "1/1 [==============================] - 0s 23ms/step\n",
            "1/1 [==============================] - 0s 24ms/step\n",
            "Predicted summary:  great seasoning\n",
            "\n",
            "\n",
            "Review: purchased four plants arrived quickly healthy great quality buy confidence highly recommend \n",
            "Original summary: another great plant \n",
            "1/1 [==============================] - 0s 56ms/step\n",
            "1/1 [==============================] - 0s 20ms/step\n",
            "1/1 [==============================] - 0s 24ms/step\n",
            "1/1 [==============================] - 0s 21ms/step\n",
            "Predicted summary:  great product\n",
            "\n",
            "\n",
            "Review: wonderful tasty beef jerky buy son new york loves beef jerky said wild ride beef jerky best pleased purchase continue buy \n",
            "Original summary: great product \n",
            "1/1 [==============================] - 0s 49ms/step\n",
            "1/1 [==============================] - 0s 21ms/step\n",
            "1/1 [==============================] - 0s 19ms/step\n",
            "Predicted summary:  delicious\n",
            "\n",
            "\n",
            "Review: everyone cans severely dented dented sides carefully placed could see cans shrink wrapped packed plastic air bags damage box arrived dented packed \n",
            "Original summary: false advertising \n",
            "1/1 [==============================] - 0s 59ms/step\n",
            "1/1 [==============================] - 0s 26ms/step\n",
            "1/1 [==============================] - 0s 17ms/step\n",
            "1/1 [==============================] - 0s 17ms/step\n",
            "Predicted summary:  dented cans\n",
            "\n",
            "\n",
            "Review: think best waffle mix ever eaten whole family agree pancakes good light shop sam club alot cheaper save money try mix great cheaper buy lb boxes amazon \n",
            "Original summary: great light taste \n",
            "1/1 [==============================] - 0s 55ms/step\n",
            "1/1 [==============================] - 0s 20ms/step\n",
            "1/1 [==============================] - 0s 19ms/step\n",
            "Predicted summary:  great\n",
            "\n",
            "\n",
            "Review: worked ok kind pain keep thinking would better \n",
            "Original summary: it is \n",
            "1/1 [==============================] - 0s 51ms/step\n",
            "1/1 [==============================] - 0s 17ms/step\n",
            "1/1 [==============================] - 0s 17ms/step\n",
            "1/1 [==============================] - 0s 19ms/step\n",
            "Predicted summary:  not bad\n",
            "\n",
            "\n"
          ]
        }
      ]
    },
    {
      "cell_type": "markdown",
      "metadata": {
        "id": "OTkaYNjHW4lC"
      },
      "source": [
        "Our model is able to generate a summary based on the context present in the text. The actual summary and the summary generated by our model do not match in terms of words but both of them are convey the same meaning.\n",
        "\n"
      ]
    }
  ]
}